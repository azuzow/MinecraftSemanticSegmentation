{
  "nbformat": 4,
  "nbformat_minor": 0,
  "metadata": {
    "accelerator": "GPU",
    "colab": {
      "name": "Copy of model1copy.ipynb",
      "provenance": [],
      "collapsed_sections": [],
      "machine_shape": "hm"
    },
    "kernelspec": {
      "display_name": "Python 3",
      "name": "python3"
    },
    "widgets": {
      "application/vnd.jupyter.widget-state+json": {
        "581f269d97464da287f7bb81bc4f30b5": {
          "model_module": "@jupyter-widgets/controls",
          "model_name": "HBoxModel",
          "state": {
            "_view_name": "HBoxView",
            "_dom_classes": [],
            "_model_name": "HBoxModel",
            "_view_module": "@jupyter-widgets/controls",
            "_model_module_version": "1.5.0",
            "_view_count": null,
            "_view_module_version": "1.5.0",
            "box_style": "",
            "layout": "IPY_MODEL_bf79ecf12bec42a5815a136ffff048c7",
            "_model_module": "@jupyter-widgets/controls",
            "children": [
              "IPY_MODEL_bc0f14409f884d82b114721f6fd154ab",
              "IPY_MODEL_81b7eae0558448ed8c9d60211bec3f25"
            ]
          }
        },
        "bf79ecf12bec42a5815a136ffff048c7": {
          "model_module": "@jupyter-widgets/base",
          "model_name": "LayoutModel",
          "state": {
            "_view_name": "LayoutView",
            "grid_template_rows": null,
            "right": null,
            "justify_content": null,
            "_view_module": "@jupyter-widgets/base",
            "overflow": null,
            "_model_module_version": "1.2.0",
            "_view_count": null,
            "flex_flow": null,
            "width": null,
            "min_width": null,
            "border": null,
            "align_items": null,
            "bottom": null,
            "_model_module": "@jupyter-widgets/base",
            "top": null,
            "grid_column": null,
            "overflow_y": null,
            "overflow_x": null,
            "grid_auto_flow": null,
            "grid_area": null,
            "grid_template_columns": null,
            "flex": null,
            "_model_name": "LayoutModel",
            "justify_items": null,
            "grid_row": null,
            "max_height": null,
            "align_content": null,
            "visibility": null,
            "align_self": null,
            "height": null,
            "min_height": null,
            "padding": null,
            "grid_auto_rows": null,
            "grid_gap": null,
            "max_width": null,
            "order": null,
            "_view_module_version": "1.2.0",
            "grid_template_areas": null,
            "object_position": null,
            "object_fit": null,
            "grid_auto_columns": null,
            "margin": null,
            "display": null,
            "left": null
          }
        },
        "bc0f14409f884d82b114721f6fd154ab": {
          "model_module": "@jupyter-widgets/controls",
          "model_name": "FloatProgressModel",
          "state": {
            "_view_name": "ProgressView",
            "style": "IPY_MODEL_b857b9abed504be68a9d25ffe85068f3",
            "_dom_classes": [],
            "description": "100%",
            "_model_name": "FloatProgressModel",
            "bar_style": "success",
            "max": 178728960,
            "_view_module": "@jupyter-widgets/controls",
            "_model_module_version": "1.5.0",
            "value": 178728960,
            "_view_count": null,
            "_view_module_version": "1.5.0",
            "orientation": "horizontal",
            "min": 0,
            "description_tooltip": null,
            "_model_module": "@jupyter-widgets/controls",
            "layout": "IPY_MODEL_33d5857c323e4d32ba9d8dd45fc66df7"
          }
        },
        "81b7eae0558448ed8c9d60211bec3f25": {
          "model_module": "@jupyter-widgets/controls",
          "model_name": "HTMLModel",
          "state": {
            "_view_name": "HTMLView",
            "style": "IPY_MODEL_f9e1de4eea2d4051bdda608c1694a7c1",
            "_dom_classes": [],
            "description": "",
            "_model_name": "HTMLModel",
            "placeholder": "​",
            "_view_module": "@jupyter-widgets/controls",
            "_model_module_version": "1.5.0",
            "value": " 170M/170M [00:06&lt;00:00, 28.9MB/s]",
            "_view_count": null,
            "_view_module_version": "1.5.0",
            "description_tooltip": null,
            "_model_module": "@jupyter-widgets/controls",
            "layout": "IPY_MODEL_421d17afc877444c93a8d75052405ef4"
          }
        },
        "b857b9abed504be68a9d25ffe85068f3": {
          "model_module": "@jupyter-widgets/controls",
          "model_name": "ProgressStyleModel",
          "state": {
            "_view_name": "StyleView",
            "_model_name": "ProgressStyleModel",
            "description_width": "initial",
            "_view_module": "@jupyter-widgets/base",
            "_model_module_version": "1.5.0",
            "_view_count": null,
            "_view_module_version": "1.2.0",
            "bar_color": null,
            "_model_module": "@jupyter-widgets/controls"
          }
        },
        "33d5857c323e4d32ba9d8dd45fc66df7": {
          "model_module": "@jupyter-widgets/base",
          "model_name": "LayoutModel",
          "state": {
            "_view_name": "LayoutView",
            "grid_template_rows": null,
            "right": null,
            "justify_content": null,
            "_view_module": "@jupyter-widgets/base",
            "overflow": null,
            "_model_module_version": "1.2.0",
            "_view_count": null,
            "flex_flow": null,
            "width": null,
            "min_width": null,
            "border": null,
            "align_items": null,
            "bottom": null,
            "_model_module": "@jupyter-widgets/base",
            "top": null,
            "grid_column": null,
            "overflow_y": null,
            "overflow_x": null,
            "grid_auto_flow": null,
            "grid_area": null,
            "grid_template_columns": null,
            "flex": null,
            "_model_name": "LayoutModel",
            "justify_items": null,
            "grid_row": null,
            "max_height": null,
            "align_content": null,
            "visibility": null,
            "align_self": null,
            "height": null,
            "min_height": null,
            "padding": null,
            "grid_auto_rows": null,
            "grid_gap": null,
            "max_width": null,
            "order": null,
            "_view_module_version": "1.2.0",
            "grid_template_areas": null,
            "object_position": null,
            "object_fit": null,
            "grid_auto_columns": null,
            "margin": null,
            "display": null,
            "left": null
          }
        },
        "f9e1de4eea2d4051bdda608c1694a7c1": {
          "model_module": "@jupyter-widgets/controls",
          "model_name": "DescriptionStyleModel",
          "state": {
            "_view_name": "StyleView",
            "_model_name": "DescriptionStyleModel",
            "description_width": "",
            "_view_module": "@jupyter-widgets/base",
            "_model_module_version": "1.5.0",
            "_view_count": null,
            "_view_module_version": "1.2.0",
            "_model_module": "@jupyter-widgets/controls"
          }
        },
        "421d17afc877444c93a8d75052405ef4": {
          "model_module": "@jupyter-widgets/base",
          "model_name": "LayoutModel",
          "state": {
            "_view_name": "LayoutView",
            "grid_template_rows": null,
            "right": null,
            "justify_content": null,
            "_view_module": "@jupyter-widgets/base",
            "overflow": null,
            "_model_module_version": "1.2.0",
            "_view_count": null,
            "flex_flow": null,
            "width": null,
            "min_width": null,
            "border": null,
            "align_items": null,
            "bottom": null,
            "_model_module": "@jupyter-widgets/base",
            "top": null,
            "grid_column": null,
            "overflow_y": null,
            "overflow_x": null,
            "grid_auto_flow": null,
            "grid_area": null,
            "grid_template_columns": null,
            "flex": null,
            "_model_name": "LayoutModel",
            "justify_items": null,
            "grid_row": null,
            "max_height": null,
            "align_content": null,
            "visibility": null,
            "align_self": null,
            "height": null,
            "min_height": null,
            "padding": null,
            "grid_auto_rows": null,
            "grid_gap": null,
            "max_width": null,
            "order": null,
            "_view_module_version": "1.2.0",
            "grid_template_areas": null,
            "object_position": null,
            "object_fit": null,
            "grid_auto_columns": null,
            "margin": null,
            "display": null,
            "left": null
          }
        },
        "80082cc7aba94777aeac7cd41559600c": {
          "model_module": "@jupyter-widgets/controls",
          "model_name": "HBoxModel",
          "state": {
            "_view_name": "HBoxView",
            "_dom_classes": [],
            "_model_name": "HBoxModel",
            "_view_module": "@jupyter-widgets/controls",
            "_model_module_version": "1.5.0",
            "_view_count": null,
            "_view_module_version": "1.5.0",
            "box_style": "",
            "layout": "IPY_MODEL_445ea7a3f9fa449385976bf18717263a",
            "_model_module": "@jupyter-widgets/controls",
            "children": [
              "IPY_MODEL_e952d4a1acb5409ea8c803e322ef269a",
              "IPY_MODEL_63cb2ff39ad84c04a87181d8f8dbd0b9"
            ]
          }
        },
        "445ea7a3f9fa449385976bf18717263a": {
          "model_module": "@jupyter-widgets/base",
          "model_name": "LayoutModel",
          "state": {
            "_view_name": "LayoutView",
            "grid_template_rows": null,
            "right": null,
            "justify_content": null,
            "_view_module": "@jupyter-widgets/base",
            "overflow": null,
            "_model_module_version": "1.2.0",
            "_view_count": null,
            "flex_flow": null,
            "width": null,
            "min_width": null,
            "border": null,
            "align_items": null,
            "bottom": null,
            "_model_module": "@jupyter-widgets/base",
            "top": null,
            "grid_column": null,
            "overflow_y": null,
            "overflow_x": null,
            "grid_auto_flow": null,
            "grid_area": null,
            "grid_template_columns": null,
            "flex": null,
            "_model_name": "LayoutModel",
            "justify_items": null,
            "grid_row": null,
            "max_height": null,
            "align_content": null,
            "visibility": null,
            "align_self": null,
            "height": null,
            "min_height": null,
            "padding": null,
            "grid_auto_rows": null,
            "grid_gap": null,
            "max_width": null,
            "order": null,
            "_view_module_version": "1.2.0",
            "grid_template_areas": null,
            "object_position": null,
            "object_fit": null,
            "grid_auto_columns": null,
            "margin": null,
            "display": null,
            "left": null
          }
        },
        "e952d4a1acb5409ea8c803e322ef269a": {
          "model_module": "@jupyter-widgets/controls",
          "model_name": "FloatProgressModel",
          "state": {
            "_view_name": "ProgressView",
            "style": "IPY_MODEL_7dc9a5a62fb6437fb87458eabb223cdc",
            "_dom_classes": [],
            "description": "100%",
            "_model_name": "FloatProgressModel",
            "bar_style": "success",
            "max": 244545539,
            "_view_module": "@jupyter-widgets/controls",
            "_model_module_version": "1.5.0",
            "value": 244545539,
            "_view_count": null,
            "_view_module_version": "1.5.0",
            "orientation": "horizontal",
            "min": 0,
            "description_tooltip": null,
            "_model_module": "@jupyter-widgets/controls",
            "layout": "IPY_MODEL_d3c0566c77d94ea580bea22be43077a3"
          }
        },
        "63cb2ff39ad84c04a87181d8f8dbd0b9": {
          "model_module": "@jupyter-widgets/controls",
          "model_name": "HTMLModel",
          "state": {
            "_view_name": "HTMLView",
            "style": "IPY_MODEL_82bdf59ecce74cbbb3fa4ad8a6f39ddd",
            "_dom_classes": [],
            "description": "",
            "_model_name": "HTMLModel",
            "placeholder": "​",
            "_view_module": "@jupyter-widgets/controls",
            "_model_module_version": "1.5.0",
            "value": " 233M/233M [00:03&lt;00:00, 78.6MB/s]",
            "_view_count": null,
            "_view_module_version": "1.5.0",
            "description_tooltip": null,
            "_model_module": "@jupyter-widgets/controls",
            "layout": "IPY_MODEL_ad7203d5a4314665b335b899f63ec385"
          }
        },
        "7dc9a5a62fb6437fb87458eabb223cdc": {
          "model_module": "@jupyter-widgets/controls",
          "model_name": "ProgressStyleModel",
          "state": {
            "_view_name": "StyleView",
            "_model_name": "ProgressStyleModel",
            "description_width": "initial",
            "_view_module": "@jupyter-widgets/base",
            "_model_module_version": "1.5.0",
            "_view_count": null,
            "_view_module_version": "1.2.0",
            "bar_color": null,
            "_model_module": "@jupyter-widgets/controls"
          }
        },
        "d3c0566c77d94ea580bea22be43077a3": {
          "model_module": "@jupyter-widgets/base",
          "model_name": "LayoutModel",
          "state": {
            "_view_name": "LayoutView",
            "grid_template_rows": null,
            "right": null,
            "justify_content": null,
            "_view_module": "@jupyter-widgets/base",
            "overflow": null,
            "_model_module_version": "1.2.0",
            "_view_count": null,
            "flex_flow": null,
            "width": null,
            "min_width": null,
            "border": null,
            "align_items": null,
            "bottom": null,
            "_model_module": "@jupyter-widgets/base",
            "top": null,
            "grid_column": null,
            "overflow_y": null,
            "overflow_x": null,
            "grid_auto_flow": null,
            "grid_area": null,
            "grid_template_columns": null,
            "flex": null,
            "_model_name": "LayoutModel",
            "justify_items": null,
            "grid_row": null,
            "max_height": null,
            "align_content": null,
            "visibility": null,
            "align_self": null,
            "height": null,
            "min_height": null,
            "padding": null,
            "grid_auto_rows": null,
            "grid_gap": null,
            "max_width": null,
            "order": null,
            "_view_module_version": "1.2.0",
            "grid_template_areas": null,
            "object_position": null,
            "object_fit": null,
            "grid_auto_columns": null,
            "margin": null,
            "display": null,
            "left": null
          }
        },
        "82bdf59ecce74cbbb3fa4ad8a6f39ddd": {
          "model_module": "@jupyter-widgets/controls",
          "model_name": "DescriptionStyleModel",
          "state": {
            "_view_name": "StyleView",
            "_model_name": "DescriptionStyleModel",
            "description_width": "",
            "_view_module": "@jupyter-widgets/base",
            "_model_module_version": "1.5.0",
            "_view_count": null,
            "_view_module_version": "1.2.0",
            "_model_module": "@jupyter-widgets/controls"
          }
        },
        "ad7203d5a4314665b335b899f63ec385": {
          "model_module": "@jupyter-widgets/base",
          "model_name": "LayoutModel",
          "state": {
            "_view_name": "LayoutView",
            "grid_template_rows": null,
            "right": null,
            "justify_content": null,
            "_view_module": "@jupyter-widgets/base",
            "overflow": null,
            "_model_module_version": "1.2.0",
            "_view_count": null,
            "flex_flow": null,
            "width": null,
            "min_width": null,
            "border": null,
            "align_items": null,
            "bottom": null,
            "_model_module": "@jupyter-widgets/base",
            "top": null,
            "grid_column": null,
            "overflow_y": null,
            "overflow_x": null,
            "grid_auto_flow": null,
            "grid_area": null,
            "grid_template_columns": null,
            "flex": null,
            "_model_name": "LayoutModel",
            "justify_items": null,
            "grid_row": null,
            "max_height": null,
            "align_content": null,
            "visibility": null,
            "align_self": null,
            "height": null,
            "min_height": null,
            "padding": null,
            "grid_auto_rows": null,
            "grid_gap": null,
            "max_width": null,
            "order": null,
            "_view_module_version": "1.2.0",
            "grid_template_areas": null,
            "object_position": null,
            "object_fit": null,
            "grid_auto_columns": null,
            "margin": null,
            "display": null,
            "left": null
          }
        }
      }
    }
  },
  "cells": [
    {
      "cell_type": "code",
      "metadata": {
        "colab": {
          "base_uri": "https://localhost:8080/"
        },
        "id": "f1jJkLG8Z4uC",
        "outputId": "5521c579-fe19-418b-a1c8-7674814239ff"
      },
      "source": [
        "try:\n",
        "    # --- Mount gdrive to /content/drive/My Drive/\n",
        "    from google.colab import drive\n",
        "    drive.mount('/content/drive')\n",
        "    \n",
        "except: pass"
      ],
      "execution_count": null,
      "outputs": [
        {
          "output_type": "stream",
          "text": [
            "Mounted at /content/drive\n"
          ],
          "name": "stdout"
        }
      ]
    },
    {
      "cell_type": "code",
      "metadata": {
        "colab": {
          "base_uri": "https://localhost:8080/"
        },
        "id": "2VCZDYP_aBcx",
        "outputId": "2f3d0d42-6f8a-4962-c2fd-ca18e5825100"
      },
      "source": [
        "from google.colab import drive\n",
        "drive.mount('/content/drive')"
      ],
      "execution_count": null,
      "outputs": [
        {
          "output_type": "stream",
          "text": [
            "Drive already mounted at /content/drive; to attempt to forcibly remount, call drive.mount(\"/content/drive\", force_remount=True).\n"
          ],
          "name": "stdout"
        }
      ]
    },
    {
      "cell_type": "code",
      "metadata": {
        "id": "BllHvnsUaCt5"
      },
      "source": [
        "# --- Set data directory\n",
        "MOUNT_ROOT = '/content/drive/My Drive'\n",
        "DATASET_ROOT = '/content/drive/MyDrive/Minecraft Segmentation Data Set'"
      ],
      "execution_count": null,
      "outputs": []
    },
    {
      "cell_type": "code",
      "metadata": {
        "id": "eOKX1FN4aEX2"
      },
      "source": [
        "# !pip install cloud-tpu-client==0.10 https://storage.googleapis.com/tpu-pytorch/wheels/torch_xla-1.7-cp36-cp36m-linux_x86_64.whl\n",
        "# VERSION = \"20200325\"  #@param [\"1.5\" , \"20200325\", \"nightly\"]\n",
        "# !curl https://raw.githubusercontent.com/pytorch/xla/master/contrib/scripts/env-setup.py -o pytorch-xla-env-setup.py\n",
        "# !python pytorch-xla-env-setup.py --version $VERSION"
      ],
      "execution_count": null,
      "outputs": []
    },
    {
      "cell_type": "code",
      "metadata": {
        "id": "REluIMZjaFcU"
      },
      "source": [
        "from __future__ import print_function, division\n",
        "import os\n",
        "import torch\n",
        "import pandas as pd\n",
        "from skimage import io, transform\n",
        "import numpy as np\n",
        "import matplotlib.pyplot as plt\n",
        "from torch.utils.data import  Dataset,DataLoader\n",
        "from torchvision import transforms, utils\n",
        "import cv2\n",
        "import glob\n",
        "from torch import nn\n",
        "import time\n",
        "import copy\n",
        "import csv\n",
        "from tqdm import tqdm\n",
        "from collections import Counter\n",
        "\n",
        "# # imports the torch_xla package\n",
        "# import torch_xla\n",
        "# import torch_xla.core.xla_model as xm"
      ],
      "execution_count": null,
      "outputs": []
    },
    {
      "cell_type": "code",
      "metadata": {
        "id": "6h_lQvrXaGv0"
      },
      "source": [
        "import subprocess\n",
        "def get_gpu_memory_map():\n",
        "    \"\"\"Get the current gpu usage.\n",
        "\n",
        "    Returns\n",
        "    -------\n",
        "    usage: dict\n",
        "        Keys are device ids as integers.\n",
        "        Values are memory usage as integers in MB.\n",
        "    \"\"\"\n",
        "    result = subprocess.check_output(\n",
        "        [\n",
        "            'nvidia-smi', '--query-gpu=memory.used',\n",
        "            '--format=csv,nounits,noheader'\n",
        "        ], encoding='utf-8')\n",
        "    # Convert lines into a dictionary\n",
        "    gpu_memory = [int(x) for x in result.strip().split('\\n')]\n",
        "    gpu_memory_map = dict(zip(range(len(gpu_memory)), gpu_memory))\n",
        "    return gpu_memory_map\n"
      ],
      "execution_count": null,
      "outputs": []
    },
    {
      "cell_type": "code",
      "metadata": {
        "id": "ndBbNscqTnYE"
      },
      "source": [
        "MODELS_DIR_PATH = MOUNT_ROOT+\"/Models\"\n",
        "def save_model(epoch, model, optimizer, loss):\n",
        "  torch.save({\n",
        "            'epoch': epoch,\n",
        "            'model_state_dict': model.state_dict(),\n",
        "            'optimizer_state_dict': optimizer.state_dict(),\n",
        "            'loss': loss,\n",
        "            }, MODELS_DIR_PATH + \"/model_epoch_\" + '{0}'.format(str(epoch).zfill(3)) + \".pt\")"
      ],
      "execution_count": null,
      "outputs": []
    },
    {
      "cell_type": "code",
      "metadata": {
        "id": "1H7CPHopseyt"
      },
      "source": [
        "from os import listdir, mkdir\n",
        "from os.path import isfile, join, exists\n",
        "import re\n",
        "import glob\n",
        "\n",
        "def extract_epoc(string):\n",
        "    r = re.compile(r'(\\d+)')\n",
        "    return int(r.findall(string)[0])\n",
        "\n",
        "\n",
        "def get_latest_checkpoint(model, optimizer):\n",
        "    # if exists(MODELS_DIR_PATH + \"/model_epoch_\" + '{0}'.format(str(epoch-1).zfill(3)) + \".pt\"):\n",
        "\n",
        "    # only_files = [f for f in listdir(MODELS_DIR_PATH) if isfile(join(MODELS_DIR_PATH, f))]\n",
        "    # sorted_files = sorted(onlyfiles ,key=lambda x: extract_epoch(x))\n",
        "    # latest_file = sorted_files[-1] \n",
        "\n",
        "    latest_file = glob.glob(MODELS_DIR_PATH + \"/model_epoch_*.pt\")[0]\n",
        "    checkpoint = torch.load(latest_file)\n",
        "    model.load_state_dict(checkpoint['model_state_dict'])\n",
        "    optimizer.load_state_dict(checkpoint['optimizer_state_dict'])\n",
        "    epoch = checkpoint['epoch']\n",
        "    loss = checkpoint['loss']\n",
        "    print(\"get_latest_checkpoint model address={}\".format(hex(id(model))))\n",
        "    print(\"Loaded successfully the latest checkpoint: epoch={} loss={}\".format(epoch, loss))\n",
        "    return epoch + 1\n"
      ],
      "execution_count": null,
      "outputs": []
    },
    {
      "cell_type": "code",
      "metadata": {
        "id": "5HgMeNdNNFdZ"
      },
      "source": [
        "from shutil import copyfile, rmtree\n",
        "from math import ceil \n",
        "\n",
        "IMAGE_TOTAL = 13333\n",
        "PARTITION_SIZE = 999\n",
        "PARTITION_TOTAL = ceil(13333/PARTITION_SIZE)\n",
        "\n",
        "def partition_images(video_dirs, mask_dirs, partition_total):\n",
        "    \n",
        "    mode=0o666 #read-write only\n",
        "    for p in range(partition_total):\n",
        "      video_p_dir = f'video_{p+1}'\n",
        "      mask_p_dir = f'mask_p{p+1}'\n",
        "\n",
        "      if exists(join(DATASET_ROOT, video_p_dir)):\n",
        "        rmtree(join(DATASET_ROOT, video_p_dir))\n",
        "        rmtree(join(DATASET_ROOT, mask_p_dir))\n",
        "\n",
        "      mkdir(join(DATASET_ROOT, video_p_dir), mode=0o666)\n",
        "      mkdir(join(DATASET_ROOT, mask_p_dir), mode=0o666)\n",
        "\n",
        "      for file_num in range(p*PARTITION_SIZE, min((p+1)*(PARTITION_SIZE),IMAGE_TOTAL)):\n",
        "        for i in range(len(video_dirs)):\n",
        "          if isfile(join(DATASET_ROOT, video_dirs[i], f'{file_num}.png')):\n",
        "            copyfile(join(DATASET_ROOT, video_dirs[i], f'{file_num}.png'), join(DATASET_ROOT, video_p_dir, f'{file_num}.png'))\n",
        "            copyfile(join(DATASET_ROOT, mask_dirs[i], f'{file_num}.png'), join(DATASET_ROOT, mask_p_dir, f'{file_num}.png'))\n",
        "            break\n",
        "          \n",
        "# partition_images(['video1', 'video2'],['mask1', 'mask2'], PARTITION_TOTAL)"
      ],
      "execution_count": null,
      "outputs": []
    },
    {
      "cell_type": "code",
      "metadata": {
        "id": "-zOLB-F2aJEC"
      },
      "source": [
        "torch.cuda.empty_cache()\n",
        "class MinecraftSegmentationDataset(Dataset):\n",
        "    \"\"\"Segmentation Dataset\"\"\"\n",
        " \n",
        "    def __init__(self, root_dir, imageFolder, maskFolder, transform=None, seed=None, fraction=None, subset=None, imagecolormode='rgb', maskcolormode='grayscale'):\n",
        "        \"\"\"\n",
        "        Args:\n",
        "            root_dir (string): Directory with all the images and should have the following structure.\n",
        "            root\n",
        "            --Images\n",
        "            -----Img 1\n",
        "            -----Img N\n",
        "            --Mask\n",
        "            -----Mask 1\n",
        "            -----Mask N\n",
        "            imageFolder (string) = 'Images' : Name of the folder which contains the Images.\n",
        "            maskFolder (string)  = 'Masks : Name of the folder which contains the Masks.\n",
        "            transform (callable, optional): Optional transform to be applied on a sample.\n",
        "            seed: Specify a seed for the train and test split\n",
        "            fraction: A float value from 0 to 1 which specifies the validation split fraction\n",
        "            subset: 'Train' or 'Test' to select the appropriate set.\n",
        "            imagecolormode: 'rgb' or 'grayscale'\n",
        "            maskcolormode: 'rgb' or 'grayscale'\n",
        "        \"\"\"\n",
        "        self.color_dict = {'rgb': 1, 'grayscale': 0}\n",
        "        assert(imagecolormode in ['rgb', 'grayscale'])\n",
        "        assert(maskcolormode in ['rgb', 'grayscale'])\n",
        " \n",
        "        self.imagecolorflag = self.color_dict[imagecolormode]\n",
        "        self.maskcolorflag = self.color_dict[maskcolormode]\n",
        "        self.root_dir = root_dir\n",
        "        self.transform = transform\n",
        "        if not fraction:\n",
        "            self.image_names = sorted(\n",
        "                glob.glob(os.path.join(self.root_dir, imageFolder, '*')))\n",
        "            self.mask_names = sorted(\n",
        "                glob.glob(os.path.join(self.root_dir, maskFolder, '*')))\n",
        "        else:\n",
        "            assert(subset in ['Train', 'Test'])\n",
        "            self.fraction = fraction\n",
        "            self.image_list = np.array(sorted(glob.glob(os.path.join(self.root_dir, imageFolder, '*'))))\n",
        "            \n",
        "            self.mask_list = np.array(\n",
        "                sorted(glob.glob(os.path.join(self.root_dir, maskFolder, '*'))))\n",
        "            if seed:\n",
        "                np.random.seed(seed)\n",
        "            indices = np.arange(len(self.image_list))\n",
        "            np.random.shuffle(indices)\n",
        "            self.image_list = self.image_list[indices]\n",
        "            self.mask_list = self.mask_list[indices]\n",
        "            if subset == 'Train':\n",
        "                self.image_names = self.image_list[:int(\n",
        "                    np.ceil(len(self.image_list)*(1-self.fraction)))]\n",
        "                self.mask_names = self.mask_list[:int(\n",
        "                    np.ceil(len(self.mask_list)*(1-self.fraction)))]\n",
        "            else:\n",
        "                self.image_names = self.image_list[int(\n",
        "                    np.ceil(len(self.image_list)*(1-self.fraction))):]\n",
        "                self.mask_names = self.mask_list[int(\n",
        "                    np.ceil(len(self.mask_list)*(1-self.fraction))):]\n",
        " \n",
        "    def __len__(self):\n",
        "        return len(self.image_names)\n",
        "\n",
        "    def __getitem__(self, idx):\n",
        "        img_name = self.image_names[idx]\n",
        "        msk_name = self.mask_names[idx]\n",
        "        if self.imagecolorflag:\n",
        "            if cv2.imread(img_name, self.imagecolorflag) is None:\n",
        "                print(img_name)\n",
        "            image = cv2.imread(img_name, self.imagecolorflag).transpose(2, 0, 1)\n",
        "        else:\n",
        "            image = cv2.imread(img_name, self.imagecolorflag)\n",
        "                                  \n",
        "        if self.maskcolorflag:\n",
        "            mask = cv2.imread(msk_name, self.maskcolorflag).transpose(2, 0, 1)\n",
        "        else:\n",
        "            mask = cv2.imread(msk_name, self.maskcolorflag)\n",
        "        sample = {'image': image, 'mask': mask}\n",
        " \n",
        "        if self.transform:\n",
        "            sample = self.transform(sample)\n",
        " \n",
        "        return sample\n",
        "        \n",
        "class Resize(object):\n",
        "    \"\"\"Resize image and/or masks.\"\"\"\n",
        "\n",
        "    def __init__(self, imageresize, maskresize):\n",
        "        self.imageresize = imageresize\n",
        "        self.maskresize = maskresize\n",
        "\n",
        "    def __call__(self, sample):\n",
        "        image, mask = sample['image'], sample['mask']\n",
        "        if len(image.shape) == 3:\n",
        "            image = image.transpose(1, 2, 0)\n",
        "        if len(mask.shape) == 3:\n",
        "            mask = mask.transpose(1, 2, 0)\n",
        "        mask = cv2.resize(mask, self.maskresize, cv2.INTER_AREA)\n",
        "        image = cv2.resize(image, self.imageresize, cv2.INTER_AREA)\n",
        "        if len(image.shape) == 3:\n",
        "            image = image.transpose(2, 0, 1)\n",
        "        if len(mask.shape) == 3:\n",
        "            mask = mask.transpose(2, 0, 1)\n",
        "\n",
        "        return {'image': image,\n",
        "                'mask': mask}\n",
        "\n",
        "\n",
        "class ToTensor(object):\n",
        "    \"\"\"Convert ndarrays in sample to Tensors.\"\"\"\n",
        "\n",
        "    def __call__(self, sample, maskresize=None, imageresize=None):\n",
        "        image, mask = sample['image'], sample['mask']\n",
        "        if len(mask.shape) == 2:\n",
        "            mask = mask.reshape((1,)+mask.shape)\n",
        "        if len(image.shape) == 2:\n",
        "            image = image.reshape((1,)+image.shape)\n",
        "        return {'image': torch.from_numpy(image),\n",
        "                'mask': torch.from_numpy(mask)}\n",
        "\n",
        "\n",
        "class Normalize(object):\n",
        "    '''Normalize image'''\n",
        "\n",
        "    def __call__(self, sample):\n",
        "        image, mask = sample['image'], sample['mask']\n",
        "        return {'image': image.type(torch.FloatTensor)/255,\n",
        "                'mask': mask.type(torch.int64)}\n",
        "\n",
        "def get_dataloader(data_dir, imageFolder='video', maskFolder='mask', fraction=0.2, batch_size=4):\n",
        "    \"\"\"\n",
        "        Create training and testing dataloaders from a single folder.\n",
        "    \"\"\"\n",
        "    data_transforms = {\n",
        "        'Train': transforms.Compose([ToTensor(), Normalize()]),\n",
        "        'Test': transforms.Compose([ToTensor(), Normalize()]),\n",
        "    }\n",
        "\n",
        "    image_datasets = {x: MinecraftSegmentationDataset(data_dir, imageFolder=imageFolder, maskFolder=maskFolder, seed=100, fraction=fraction, subset=x, transform=data_transforms[x])\n",
        "                      for x in ['Train', 'Test']}\n",
        "    dataloaders = {x: DataLoader(image_datasets[x], batch_size=batch_size,\n",
        "                                 shuffle=True)\n",
        "                   for x in ['Train', 'Test']}\n",
        "    return dataloaders"
      ],
      "execution_count": null,
      "outputs": []
    },
    {
      "cell_type": "code",
      "metadata": {
        "id": "M4kBdoTyaMCq"
      },
      "source": [
        "import torch.nn as nn\n",
        "import torch.nn.functional as F\n",
        "from sklearn.metrics import jaccard_score, f1_score\n",
        "from torchvision.models.segmentation.deeplabv3 import DeepLabHead\n",
        "from torchvision.models.segmentation import  deeplabv3_resnet101\n",
        "class FocalLoss(nn.Module):\n",
        "    def __init__(self, alpha=.25, gamma=2, size_average=True):\n",
        "        super(FocalLoss, self).__init__()\n",
        "        self.alpha = alpha\n",
        "        self.gamma = gamma\n",
        "        self.size_average = size_average\n",
        "\n",
        "    def forward(self, inputs, targets):\n",
        "       \n",
        "        ce_loss = F.cross_entropy(\n",
        "            inputs, targets, reduction='none')\n",
        "        pt = torch.exp(-ce_loss)\n",
        "        focal_loss = self.alpha * (1-pt)**self.gamma * ce_loss\n",
        "        if self.size_average:\n",
        "            return focal_loss.mean()\n",
        "        else:\n",
        "            return focal_loss.sum()\n",
        "\n",
        "def custom_DeepLabv3(out_channel=132):\n",
        "    model =  deeplabv3_resnet101(pretrained=True, progress=True)\n",
        "    model.classifier = DeepLabHead(2048, out_channel)\n",
        "    #Set the model in training mode\n",
        "    model.train()\n",
        "    return model\n",
        "\n",
        "\n",
        "# print(get_gpu_memory_map())"
      ],
      "execution_count": null,
      "outputs": []
    },
    {
      "cell_type": "code",
      "metadata": {
        "id": "V5i_zvlKaNyF"
      },
      "source": [
        "def train_model(model, criterion, dataloaders, optimizer, metrics, bpath, num_epochs=3, start_from_latest_checkpoint=False):\n",
        "    since = time.time()\n",
        "    best_model_wts = copy.deepcopy(model.state_dict())\n",
        "    best_loss = 1e10\n",
        "    # Use gpu if available\n",
        "    device = torch.device(\"cuda:0\" if torch.cuda.is_available() else \"cpu\")\n",
        "    model.to(device)\n",
        "    # Initialize the log file for training and testing loss and metrics\n",
        "    fieldnames = ['epoch', 'Train_loss', 'Test_loss'] + \\\n",
        "        [f'Train_{m}' for m in metrics.keys()] + \\\n",
        "        [f'Test_{m}' for m in metrics.keys()]\n",
        "\n",
        "    \n",
        "    start_epoch = 1\n",
        "    start_loss = None\n",
        "    log_open_option = 'w'\n",
        "\n",
        "    if start_from_latest_checkpoint:\n",
        "        start_epoch = get_latest_checkpoint(model, optimizer)\n",
        "        print(\"Starting at epoch={}\".format(start_epoch))\n",
        "\n",
        "        # to append instead of truncating log.csv\n",
        "        log_open_option = 'a+'\n",
        "\n",
        "\n",
        "    with open(os.path.join(bpath, 'log.csv'), log_open_option, newline='') as csvfile:\n",
        "        writer = csv.DictWriter(csvfile, fieldnames=fieldnames)\n",
        "        if not start_from_latest_checkpoint:\n",
        "            writer.writeheader()\n",
        "\n",
        "\n",
        "    for epoch in range(start_epoch, num_epochs+1):\n",
        "        print('Epoch {}/{}'.format(epoch, num_epochs))\n",
        "        print('-' * 10)\n",
        "        # Each epoch has a training and validation phase\n",
        "        # Initialize batch summary\n",
        "        batchsummary = {a: [0] for a in fieldnames}\n",
        " \n",
        "        for phase in ['Train', 'Test']:\n",
        "            if phase == 'Train':\n",
        "                model.train()  # Set model to training mode\n",
        "            else:\n",
        "                model.eval()   # Set model to evaluate mode\n",
        " \n",
        "            # Iterate over data.\n",
        "            for sample in tqdm(iter(dataloaders[phase])):\n",
        "                inputs = sample['image'].to(device)\n",
        "                masks = sample['mask'].to(device).squeeze(1)\n",
        "\n",
        "                # zero the parameter gradients\n",
        "                optimizer.zero_grad()\n",
        " \n",
        "                # track history if only in train\n",
        "                with torch.set_grad_enabled(phase == 'Train'):\n",
        "                    outputs = model(inputs)\n",
        "                    outputs['out'] = outputs['out']\n",
        "                    outputs['out']=outputs['out'].double()\n",
        "\n",
        "                    loss = criterion(outputs['out'], masks)\n",
        "                    \n",
        "                    outputs['out'] = outputs['out'].argmax(1)\n",
        "                \n",
        "                    y_pred = outputs['out'].data.cpu().numpy()\n",
        "                   \n",
        "\n",
        "                    y_pred = y_pred.ravel()\n",
        "                    y_true = masks.data.cpu().numpy()\n",
        "                  \n",
        "                    y_true = y_true.ravel()\n",
        "                   \n",
        "                    for name, metric in metrics.items():\n",
        "                        if name == 'f1_score':\n",
        "                            # Use a classification threshold of 0.1\n",
        "                            \n",
        "                            batchsummary[f'{phase}_{name}'].append(metric(y_true > 0, y_pred > 0.1,average='micro'))\n",
        "                        else:\n",
        "                            \n",
        "                            batchsummary[f'{phase}_{name}'].append(metric(y_true.astype('uint8'), y_pred,average='micro'))\n",
        " \n",
        "                    # backward + optimize only if in training phase\n",
        "                    if phase == 'Train':\n",
        "                        loss.backward()\n",
        "                        optimizer.step()\n",
        "            batchsummary['epoch'] = epoch\n",
        "            epoch_loss = loss\n",
        "            batchsummary[f'{phase}_loss'] = epoch_loss.item()\n",
        "            print('{} Loss: {:.4f}'.format(\n",
        "                phase, loss))\n",
        "        for field in fieldnames[3:]:\n",
        "            batchsummary[field] = np.mean(batchsummary[field])\n",
        "        print(batchsummary)\n",
        "        with open(os.path.join(bpath, 'log.csv'), 'a', newline='') as csvfile:\n",
        "            writer = csv.DictWriter(csvfile, fieldnames=fieldnames)\n",
        "            writer.writerow(batchsummary)\n",
        "            # deep copy the model\n",
        "            if phase == 'Test' and loss < best_loss:\n",
        "                best_loss = loss\n",
        "                best_model_wts = copy.deepcopy(model.state_dict())\n",
        "        # save\n",
        "        save_model(epoch, model, optimizer, loss)\n",
        "        # delete the previous model\n",
        "        if exists(MODELS_DIR_PATH + \"/model_epoch_\" + '{0}'.format(str(epoch-1).zfill(3)) + \".pt\"):\n",
        "            os.remove(MODELS_DIR_PATH + \"/model_epoch_\" + '{0}'.format(str(epoch-1).zfill(3)) + \".pt\")\n",
        "\n",
        " \n",
        "    time_elapsed = time.time() - since\n",
        "    print('Training complete in {:.0f}m {:.0f}s'.format(\n",
        "        time_elapsed // 60, time_elapsed % 60))\n",
        "    print('Lowest Loss: {:4f}'.format(best_loss))\n",
        " \n",
        "    # load best model weights\n",
        "    model.load_state_dict(best_model_wts)\n",
        "    return model\n",
        "    "
      ],
      "execution_count": null,
      "outputs": []
    },
    {
      "cell_type": "code",
      "metadata": {
        "id": "vFCBGLmOXnHO"
      },
      "source": [
        "def save_dataloaders(dataloaders):\n",
        "  dataloaders['Train']\n",
        "  dataloaders['']"
      ],
      "execution_count": null,
      "outputs": []
    },
    {
      "cell_type": "code",
      "metadata": {
        "id": "J1FmZUaVgFUh",
        "colab": {
          "base_uri": "https://localhost:8080/",
          "height": 149,
          "referenced_widgets": [
            "581f269d97464da287f7bb81bc4f30b5",
            "bf79ecf12bec42a5815a136ffff048c7",
            "bc0f14409f884d82b114721f6fd154ab",
            "81b7eae0558448ed8c9d60211bec3f25",
            "b857b9abed504be68a9d25ffe85068f3",
            "33d5857c323e4d32ba9d8dd45fc66df7",
            "f9e1de4eea2d4051bdda608c1694a7c1",
            "421d17afc877444c93a8d75052405ef4",
            "80082cc7aba94777aeac7cd41559600c",
            "445ea7a3f9fa449385976bf18717263a",
            "e952d4a1acb5409ea8c803e322ef269a",
            "63cb2ff39ad84c04a87181d8f8dbd0b9",
            "7dc9a5a62fb6437fb87458eabb223cdc",
            "d3c0566c77d94ea580bea22be43077a3",
            "82bdf59ecce74cbbb3fa4ad8a6f39ddd",
            "ad7203d5a4314665b335b899f63ec385"
          ]
        },
        "outputId": "d33dd6e4-3c19-4049-f841-4b1582bd01fc"
      },
      "source": [
        "torch.cuda.empty_cache()\n",
        "# print(get_gpu_memory_map())\n",
        "root = r'/content/drive/MyDrive/Minecraft Segmentation Data Set'\n",
        "imageFolder = 'video'\n",
        "maskFolder = 'mask'\n",
        "model = custom_DeepLabv3(132)\n",
        "metrics = {'IoU': jaccard_score, 'f1_score': f1_score}\n",
        "optimizer = torch.optim.Adam(model.parameters(), lr=1e-4)\n",
        "loss_func = FocalLoss()\n",
        "MODELS_PATH = join(MOUNT_ROOT, \"CopyModels\")"
      ],
      "execution_count": null,
      "outputs": [
        {
          "output_type": "stream",
          "text": [
            "Downloading: \"https://download.pytorch.org/models/resnet101-5d3b4d8f.pth\" to /root/.cache/torch/hub/checkpoints/resnet101-5d3b4d8f.pth\n"
          ],
          "name": "stderr"
        },
        {
          "output_type": "display_data",
          "data": {
            "application/vnd.jupyter.widget-view+json": {
              "model_id": "581f269d97464da287f7bb81bc4f30b5",
              "version_minor": 0,
              "version_major": 2
            },
            "text/plain": [
              "HBox(children=(FloatProgress(value=0.0, max=178728960.0), HTML(value='')))"
            ]
          },
          "metadata": {
            "tags": []
          }
        },
        {
          "output_type": "stream",
          "text": [
            "\n"
          ],
          "name": "stdout"
        },
        {
          "output_type": "stream",
          "text": [
            "Downloading: \"https://download.pytorch.org/models/deeplabv3_resnet101_coco-586e9e4e.pth\" to /root/.cache/torch/hub/checkpoints/deeplabv3_resnet101_coco-586e9e4e.pth\n"
          ],
          "name": "stderr"
        },
        {
          "output_type": "display_data",
          "data": {
            "application/vnd.jupyter.widget-view+json": {
              "model_id": "80082cc7aba94777aeac7cd41559600c",
              "version_minor": 0,
              "version_major": 2
            },
            "text/plain": [
              "HBox(children=(FloatProgress(value=0.0, max=244545539.0), HTML(value='')))"
            ]
          },
          "metadata": {
            "tags": []
          }
        },
        {
          "output_type": "stream",
          "text": [
            "\n"
          ],
          "name": "stdout"
        }
      ]
    },
    {
      "cell_type": "code",
      "metadata": {
        "id": "Aqn8pnytYAzO"
      },
      "source": [
        "def save_dataloaders(dataloaders, dir_path):\n",
        "  torch.save(dataloaders['Train'], join(dir_path, 'train.pth'))\n",
        "  torch.save(dataloaders['Test'], join(dir_path, 'test.pth'))"
      ],
      "execution_count": null,
      "outputs": []
    },
    {
      "cell_type": "code",
      "metadata": {
        "id": "FLCj4kW7YZ3J"
      },
      "source": [
        "def load_dataloaders(dir_path):\n",
        "    return {\"Train\": torch.load(join(dir_path, 'train.pth')), \"Test\": torch.load(join(dir_path, 'test.pth'))}"
      ],
      "execution_count": null,
      "outputs": []
    },
    {
      "cell_type": "code",
      "metadata": {
        "id": "UJgmTt1ZVOOV"
      },
      "source": [
        "start_from_latest_checkpoint = False"
      ],
      "execution_count": null,
      "outputs": []
    },
    {
      "cell_type": "code",
      "metadata": {
        "id": "EwWayWxHVURo"
      },
      "source": [
        "# for i in range(2,3):\n",
        "#   dataloaders = None\n",
        "#   if start_from_latest_checkpoint:\n",
        "#     dataloaders = load_dataloaders(MODELS_PATH)\n",
        "#   else:\n",
        "#     dataloaders = get_dataloader(root,imageFolder=f'video{i}',maskFolder=f'mask{i}', batch_size=3)\n",
        "#     save_dataloaders(dataloaders, MODELS_PATH)\n",
        "#   print(\"before calling train_model model address={}\".format(hex(id(model))))\n",
        "#   model = train_model(model, loss_func, dataloaders, optimizer, metrics, MODELS_PATH, 11, start_from_latest_checkpoint)"
      ],
      "execution_count": null,
      "outputs": []
    },
    {
      "cell_type": "code",
      "metadata": {
        "id": "cjg5WIvn_Pp5",
        "colab": {
          "base_uri": "https://localhost:8080/"
        },
        "outputId": "792d7c58-645e-40fc-a590-6d414a5079bf"
      },
      "source": [
        "dataloaders = None\n",
        "if start_from_latest_checkpoint:\n",
        "  dataloaders = load_dataloaders(MODELS_PATH)\n",
        "else:\n",
        "  dataloaders = get_dataloader(root,imageFolder=f'small_video',maskFolder=f'small_mask', batch_size=3)\n",
        "  save_dataloaders(dataloaders, MODELS_PATH)\n",
        "print(\"before calling train_model model address={}\".format(hex(id(model))))\n",
        "model = train_model(model, loss_func, dataloaders, optimizer, metrics, MODELS_PATH, 500, start_from_latest_checkpoint)"
      ],
      "execution_count": null,
      "outputs": [
        {
          "output_type": "stream",
          "text": [
            "before calling train_model model address=0x7fdb178aab70\n"
          ],
          "name": "stdout"
        },
        {
          "output_type": "stream",
          "text": [
            "\r  0%|          | 0/533 [00:00<?, ?it/s]"
          ],
          "name": "stderr"
        },
        {
          "output_type": "stream",
          "text": [
            "Epoch 1/500\n",
            "----------\n"
          ],
          "name": "stdout"
        },
        {
          "output_type": "stream",
          "text": [
            "100%|██████████| 533/533 [52:21<00:00,  5.89s/it]\n",
            "  0%|          | 0/133 [00:00<?, ?it/s]"
          ],
          "name": "stderr"
        },
        {
          "output_type": "stream",
          "text": [
            "Train Loss: 0.0919\n"
          ],
          "name": "stdout"
        },
        {
          "output_type": "stream",
          "text": [
            "100%|██████████| 133/133 [11:28<00:00,  5.17s/it]\n"
          ],
          "name": "stderr"
        },
        {
          "output_type": "stream",
          "text": [
            "Test Loss: 0.0849\n",
            "{'epoch': 1, 'Train_loss': 0.0918834266429551, 'Test_loss': 0.08490078483317462, 'Train_IoU': 0.6786953430547862, 'Train_f1_score': 0.9981208186670598, 'Test_IoU': 0.7844980642985695, 'Test_f1_score': 0.9925373134328358}\n"
          ],
          "name": "stdout"
        },
        {
          "output_type": "stream",
          "text": [
            "\r  0%|          | 0/533 [00:00<?, ?it/s]"
          ],
          "name": "stderr"
        },
        {
          "output_type": "stream",
          "text": [
            "Epoch 2/500\n",
            "----------\n"
          ],
          "name": "stdout"
        },
        {
          "output_type": "stream",
          "text": [
            "100%|██████████| 533/533 [14:34<00:00,  1.64s/it]\n",
            "  0%|          | 0/133 [00:00<?, ?it/s]"
          ],
          "name": "stderr"
        },
        {
          "output_type": "stream",
          "text": [
            "Train Loss: 0.0965\n"
          ],
          "name": "stdout"
        },
        {
          "output_type": "stream",
          "text": [
            "100%|██████████| 133/133 [02:03<00:00,  1.07it/s]\n"
          ],
          "name": "stderr"
        },
        {
          "output_type": "stream",
          "text": [
            "Test Loss: 0.0719\n",
            "{'epoch': 2, 'Train_loss': 0.09648766722428888, 'Test_loss': 0.07193275212693251, 'Train_IoU': 0.8019706932676613, 'Train_f1_score': 0.99812734082397, 'Test_IoU': 0.8195161144971143, 'Test_f1_score': 0.9925373134328358}\n"
          ],
          "name": "stdout"
        },
        {
          "output_type": "stream",
          "text": [
            "\r  0%|          | 0/533 [00:00<?, ?it/s]"
          ],
          "name": "stderr"
        },
        {
          "output_type": "stream",
          "text": [
            "Epoch 3/500\n",
            "----------\n"
          ],
          "name": "stdout"
        },
        {
          "output_type": "stream",
          "text": [
            "100%|██████████| 533/533 [14:35<00:00,  1.64s/it]\n",
            "  0%|          | 0/133 [00:00<?, ?it/s]"
          ],
          "name": "stderr"
        },
        {
          "output_type": "stream",
          "text": [
            "Train Loss: 0.0607\n"
          ],
          "name": "stdout"
        },
        {
          "output_type": "stream",
          "text": [
            "100%|██████████| 133/133 [02:02<00:00,  1.08it/s]\n"
          ],
          "name": "stderr"
        },
        {
          "output_type": "stream",
          "text": [
            "Test Loss: 0.0622\n",
            "{'epoch': 3, 'Train_loss': 0.06071526063751349, 'Test_loss': 0.06218057132414011, 'Train_IoU': 0.8248508040098832, 'Train_f1_score': 0.99812734082397, 'Test_IoU': 0.8312730130007013, 'Test_f1_score': 0.9925373134328358}\n"
          ],
          "name": "stdout"
        },
        {
          "output_type": "stream",
          "text": [
            "\r  0%|          | 0/533 [00:00<?, ?it/s]"
          ],
          "name": "stderr"
        },
        {
          "output_type": "stream",
          "text": [
            "Epoch 4/500\n",
            "----------\n"
          ],
          "name": "stdout"
        },
        {
          "output_type": "stream",
          "text": [
            "100%|██████████| 533/533 [14:34<00:00,  1.64s/it]\n",
            "  0%|          | 0/133 [00:00<?, ?it/s]"
          ],
          "name": "stderr"
        },
        {
          "output_type": "stream",
          "text": [
            "Train Loss: 0.0677\n"
          ],
          "name": "stdout"
        },
        {
          "output_type": "stream",
          "text": [
            "100%|██████████| 133/133 [02:02<00:00,  1.09it/s]\n"
          ],
          "name": "stderr"
        },
        {
          "output_type": "stream",
          "text": [
            "Test Loss: 0.0843\n",
            "{'epoch': 4, 'Train_loss': 0.06769478267791941, 'Test_loss': 0.08427436416485815, 'Train_IoU': 0.8356891821279623, 'Train_f1_score': 0.99812734082397, 'Test_IoU': 0.8117435155235823, 'Test_f1_score': 0.9925373134328358}\n"
          ],
          "name": "stdout"
        },
        {
          "output_type": "stream",
          "text": [
            "\r  0%|          | 0/533 [00:00<?, ?it/s]"
          ],
          "name": "stderr"
        },
        {
          "output_type": "stream",
          "text": [
            "Epoch 5/500\n",
            "----------\n"
          ],
          "name": "stdout"
        },
        {
          "output_type": "stream",
          "text": [
            "100%|██████████| 533/533 [14:33<00:00,  1.64s/it]\n",
            "  0%|          | 0/133 [00:00<?, ?it/s]"
          ],
          "name": "stderr"
        },
        {
          "output_type": "stream",
          "text": [
            "Train Loss: 0.0500\n"
          ],
          "name": "stdout"
        },
        {
          "output_type": "stream",
          "text": [
            "100%|██████████| 133/133 [02:01<00:00,  1.10it/s]\n"
          ],
          "name": "stderr"
        },
        {
          "output_type": "stream",
          "text": [
            "Test Loss: 0.0836\n",
            "{'epoch': 5, 'Train_loss': 0.05003160639445104, 'Test_loss': 0.08359575118888926, 'Train_IoU': 0.8392212385304995, 'Train_f1_score': 0.99812734082397, 'Test_IoU': 0.834097103900986, 'Test_f1_score': 0.9925373134328358}\n"
          ],
          "name": "stdout"
        },
        {
          "output_type": "stream",
          "text": [
            "\r  0%|          | 0/533 [00:00<?, ?it/s]"
          ],
          "name": "stderr"
        },
        {
          "output_type": "stream",
          "text": [
            "Epoch 6/500\n",
            "----------\n"
          ],
          "name": "stdout"
        },
        {
          "output_type": "stream",
          "text": [
            "100%|██████████| 533/533 [14:30<00:00,  1.63s/it]\n",
            "  0%|          | 0/133 [00:00<?, ?it/s]"
          ],
          "name": "stderr"
        },
        {
          "output_type": "stream",
          "text": [
            "Train Loss: 0.0516\n"
          ],
          "name": "stdout"
        },
        {
          "output_type": "stream",
          "text": [
            "100%|██████████| 133/133 [02:00<00:00,  1.11it/s]\n"
          ],
          "name": "stderr"
        },
        {
          "output_type": "stream",
          "text": [
            "Test Loss: 0.0649\n",
            "{'epoch': 6, 'Train_loss': 0.05164634688693147, 'Test_loss': 0.06488477374894203, 'Train_IoU': 0.8453667779989125, 'Train_f1_score': 0.99812734082397, 'Test_IoU': 0.8227700732187782, 'Test_f1_score': 0.9925373134328358}\n"
          ],
          "name": "stdout"
        },
        {
          "output_type": "stream",
          "text": [
            "\r  0%|          | 0/533 [00:00<?, ?it/s]"
          ],
          "name": "stderr"
        },
        {
          "output_type": "stream",
          "text": [
            "Epoch 7/500\n",
            "----------\n"
          ],
          "name": "stdout"
        },
        {
          "output_type": "stream",
          "text": [
            "100%|██████████| 533/533 [14:29<00:00,  1.63s/it]\n",
            "  0%|          | 0/133 [00:00<?, ?it/s]"
          ],
          "name": "stderr"
        },
        {
          "output_type": "stream",
          "text": [
            "Train Loss: 0.0435\n"
          ],
          "name": "stdout"
        },
        {
          "output_type": "stream",
          "text": [
            "100%|██████████| 133/133 [01:59<00:00,  1.12it/s]\n"
          ],
          "name": "stderr"
        },
        {
          "output_type": "stream",
          "text": [
            "Test Loss: 0.0872\n",
            "{'epoch': 7, 'Train_loss': 0.043494865028882335, 'Test_loss': 0.08715234294610746, 'Train_IoU': 0.8484989152920697, 'Train_f1_score': 0.99812734082397, 'Test_IoU': 0.841216053484052, 'Test_f1_score': 0.9925373134328358}\n"
          ],
          "name": "stdout"
        },
        {
          "output_type": "stream",
          "text": [
            "\r  0%|          | 0/533 [00:00<?, ?it/s]"
          ],
          "name": "stderr"
        },
        {
          "output_type": "stream",
          "text": [
            "Epoch 8/500\n",
            "----------\n"
          ],
          "name": "stdout"
        },
        {
          "output_type": "stream",
          "text": [
            "100%|██████████| 533/533 [14:23<00:00,  1.62s/it]\n",
            "  0%|          | 0/133 [00:00<?, ?it/s]"
          ],
          "name": "stderr"
        },
        {
          "output_type": "stream",
          "text": [
            "Train Loss: 0.0507\n"
          ],
          "name": "stdout"
        },
        {
          "output_type": "stream",
          "text": [
            "100%|██████████| 133/133 [02:00<00:00,  1.10it/s]\n"
          ],
          "name": "stderr"
        },
        {
          "output_type": "stream",
          "text": [
            "Test Loss: 0.0544\n",
            "{'epoch': 8, 'Train_loss': 0.05074752140292688, 'Test_loss': 0.054411507651282796, 'Train_IoU': 0.8444809928570255, 'Train_f1_score': 0.99812734082397, 'Test_IoU': 0.8282347432366342, 'Test_f1_score': 0.9925373134328358}\n"
          ],
          "name": "stdout"
        },
        {
          "output_type": "stream",
          "text": [
            "\r  0%|          | 0/533 [00:00<?, ?it/s]"
          ],
          "name": "stderr"
        },
        {
          "output_type": "stream",
          "text": [
            "Epoch 9/500\n",
            "----------\n"
          ],
          "name": "stdout"
        },
        {
          "output_type": "stream",
          "text": [
            "100%|██████████| 533/533 [14:22<00:00,  1.62s/it]\n",
            "  0%|          | 0/133 [00:00<?, ?it/s]"
          ],
          "name": "stderr"
        },
        {
          "output_type": "stream",
          "text": [
            "Train Loss: 0.0475\n"
          ],
          "name": "stdout"
        },
        {
          "output_type": "stream",
          "text": [
            "100%|██████████| 133/133 [01:58<00:00,  1.12it/s]\n"
          ],
          "name": "stderr"
        },
        {
          "output_type": "stream",
          "text": [
            "Test Loss: 0.0647\n",
            "{'epoch': 9, 'Train_loss': 0.04751845327719827, 'Test_loss': 0.0647079964172118, 'Train_IoU': 0.8345779636708167, 'Train_f1_score': 0.99812734082397, 'Test_IoU': 0.8478416336407448, 'Test_f1_score': 0.9925373134328358}\n"
          ],
          "name": "stdout"
        },
        {
          "output_type": "stream",
          "text": [
            "\r  0%|          | 0/533 [00:00<?, ?it/s]"
          ],
          "name": "stderr"
        },
        {
          "output_type": "stream",
          "text": [
            "Epoch 10/500\n",
            "----------\n"
          ],
          "name": "stdout"
        },
        {
          "output_type": "stream",
          "text": [
            "100%|██████████| 533/533 [14:27<00:00,  1.63s/it]\n",
            "  0%|          | 0/133 [00:00<?, ?it/s]"
          ],
          "name": "stderr"
        },
        {
          "output_type": "stream",
          "text": [
            "Train Loss: 0.0500\n"
          ],
          "name": "stdout"
        },
        {
          "output_type": "stream",
          "text": [
            "100%|██████████| 133/133 [02:01<00:00,  1.10it/s]\n"
          ],
          "name": "stderr"
        },
        {
          "output_type": "stream",
          "text": [
            "Test Loss: 0.0517\n",
            "{'epoch': 10, 'Train_loss': 0.05001305124459982, 'Test_loss': 0.05174650564414488, 'Train_IoU': 0.8520325323310645, 'Train_f1_score': 0.99812734082397, 'Test_IoU': 0.8501246766248947, 'Test_f1_score': 0.9925373134328358}\n"
          ],
          "name": "stdout"
        },
        {
          "output_type": "stream",
          "text": [
            "\r  0%|          | 0/533 [00:00<?, ?it/s]"
          ],
          "name": "stderr"
        },
        {
          "output_type": "stream",
          "text": [
            "Epoch 11/500\n",
            "----------\n"
          ],
          "name": "stdout"
        },
        {
          "output_type": "stream",
          "text": [
            "100%|██████████| 533/533 [14:33<00:00,  1.64s/it]\n",
            "  0%|          | 0/133 [00:00<?, ?it/s]"
          ],
          "name": "stderr"
        },
        {
          "output_type": "stream",
          "text": [
            "Train Loss: 0.0459\n"
          ],
          "name": "stdout"
        },
        {
          "output_type": "stream",
          "text": [
            "100%|██████████| 133/133 [02:01<00:00,  1.09it/s]\n"
          ],
          "name": "stderr"
        },
        {
          "output_type": "stream",
          "text": [
            "Test Loss: 0.0515\n",
            "{'epoch': 11, 'Train_loss': 0.045891122347669025, 'Test_loss': 0.05148887236774056, 'Train_IoU': 0.8550817895497747, 'Train_f1_score': 0.99812734082397, 'Test_IoU': 0.8533383815579493, 'Test_f1_score': 0.9925373134328358}\n"
          ],
          "name": "stdout"
        },
        {
          "output_type": "stream",
          "text": [
            "\r  0%|          | 0/533 [00:00<?, ?it/s]"
          ],
          "name": "stderr"
        },
        {
          "output_type": "stream",
          "text": [
            "Epoch 12/500\n",
            "----------\n"
          ],
          "name": "stdout"
        },
        {
          "output_type": "stream",
          "text": [
            "100%|██████████| 533/533 [14:34<00:00,  1.64s/it]\n",
            "  0%|          | 0/133 [00:00<?, ?it/s]"
          ],
          "name": "stderr"
        },
        {
          "output_type": "stream",
          "text": [
            "Train Loss: 0.0558\n"
          ],
          "name": "stdout"
        },
        {
          "output_type": "stream",
          "text": [
            "100%|██████████| 133/133 [02:02<00:00,  1.08it/s]\n"
          ],
          "name": "stderr"
        },
        {
          "output_type": "stream",
          "text": [
            "Test Loss: 0.1337\n",
            "{'epoch': 12, 'Train_loss': 0.05582287928202717, 'Test_loss': 0.13372116398252357, 'Train_IoU': 0.8522417300528032, 'Train_f1_score': 0.99812734082397, 'Test_IoU': 0.490797334450315, 'Test_f1_score': 0.9925373134328358}\n"
          ],
          "name": "stdout"
        },
        {
          "output_type": "stream",
          "text": [
            "\r  0%|          | 0/533 [00:00<?, ?it/s]"
          ],
          "name": "stderr"
        },
        {
          "output_type": "stream",
          "text": [
            "Epoch 13/500\n",
            "----------\n"
          ],
          "name": "stdout"
        },
        {
          "output_type": "stream",
          "text": [
            "100%|██████████| 533/533 [14:42<00:00,  1.65s/it]\n",
            "  0%|          | 0/133 [00:00<?, ?it/s]"
          ],
          "name": "stderr"
        },
        {
          "output_type": "stream",
          "text": [
            "Train Loss: 0.0419\n"
          ],
          "name": "stdout"
        },
        {
          "output_type": "stream",
          "text": [
            "100%|██████████| 133/133 [02:06<00:00,  1.05it/s]\n"
          ],
          "name": "stderr"
        },
        {
          "output_type": "stream",
          "text": [
            "Test Loss: 0.0481\n",
            "{'epoch': 13, 'Train_loss': 0.04189498433360426, 'Test_loss': 0.04806499095562058, 'Train_IoU': 0.8519778154961962, 'Train_f1_score': 0.99812734082397, 'Test_IoU': 0.8485116572922062, 'Test_f1_score': 0.9925373134328358}\n"
          ],
          "name": "stdout"
        },
        {
          "output_type": "stream",
          "text": [
            "\r  0%|          | 0/533 [00:00<?, ?it/s]"
          ],
          "name": "stderr"
        },
        {
          "output_type": "stream",
          "text": [
            "Epoch 14/500\n",
            "----------\n"
          ],
          "name": "stdout"
        },
        {
          "output_type": "stream",
          "text": [
            "100%|██████████| 533/533 [15:00<00:00,  1.69s/it]\n",
            "  0%|          | 0/133 [00:00<?, ?it/s]"
          ],
          "name": "stderr"
        },
        {
          "output_type": "stream",
          "text": [
            "Train Loss: 0.0562\n"
          ],
          "name": "stdout"
        },
        {
          "output_type": "stream",
          "text": [
            "100%|██████████| 133/133 [02:08<00:00,  1.03it/s]\n"
          ],
          "name": "stderr"
        },
        {
          "output_type": "stream",
          "text": [
            "Test Loss: 0.0354\n",
            "{'epoch': 14, 'Train_loss': 0.056178679910223135, 'Test_loss': 0.035356849615814506, 'Train_IoU': 0.8542164234135495, 'Train_f1_score': 0.99812734082397, 'Test_IoU': 0.8553882540835757, 'Test_f1_score': 0.9925373134328358}\n"
          ],
          "name": "stdout"
        },
        {
          "output_type": "stream",
          "text": [
            "\r  0%|          | 0/533 [00:00<?, ?it/s]"
          ],
          "name": "stderr"
        },
        {
          "output_type": "stream",
          "text": [
            "Epoch 15/500\n",
            "----------\n"
          ],
          "name": "stdout"
        },
        {
          "output_type": "stream",
          "text": [
            "100%|██████████| 533/533 [14:55<00:00,  1.68s/it]\n",
            "  0%|          | 0/133 [00:00<?, ?it/s]"
          ],
          "name": "stderr"
        },
        {
          "output_type": "stream",
          "text": [
            "Train Loss: 0.0447\n"
          ],
          "name": "stdout"
        },
        {
          "output_type": "stream",
          "text": [
            "100%|██████████| 133/133 [02:07<00:00,  1.05it/s]\n"
          ],
          "name": "stderr"
        },
        {
          "output_type": "stream",
          "text": [
            "Test Loss: 0.0433\n",
            "{'epoch': 15, 'Train_loss': 0.04471629429424798, 'Test_loss': 0.04329679009146117, 'Train_IoU': 0.8592350757839818, 'Train_f1_score': 0.99812734082397, 'Test_IoU': 0.8575843713165644, 'Test_f1_score': 0.9925373134328358}\n"
          ],
          "name": "stdout"
        },
        {
          "output_type": "stream",
          "text": [
            "\r  0%|          | 0/533 [00:00<?, ?it/s]"
          ],
          "name": "stderr"
        },
        {
          "output_type": "stream",
          "text": [
            "Epoch 16/500\n",
            "----------\n"
          ],
          "name": "stdout"
        },
        {
          "output_type": "stream",
          "text": [
            "100%|██████████| 533/533 [14:52<00:00,  1.68s/it]\n",
            "  0%|          | 0/133 [00:00<?, ?it/s]"
          ],
          "name": "stderr"
        },
        {
          "output_type": "stream",
          "text": [
            "Train Loss: 0.0512\n"
          ],
          "name": "stdout"
        },
        {
          "output_type": "stream",
          "text": [
            "100%|██████████| 133/133 [02:05<00:00,  1.06it/s]\n"
          ],
          "name": "stderr"
        },
        {
          "output_type": "stream",
          "text": [
            "Test Loss: 0.0468\n",
            "{'epoch': 16, 'Train_loss': 0.05121053701765722, 'Test_loss': 0.046833009895312847, 'Train_IoU': 0.8604023033007828, 'Train_f1_score': 0.99812734082397, 'Test_IoU': 0.8550445703583938, 'Test_f1_score': 0.9925373134328358}\n"
          ],
          "name": "stdout"
        },
        {
          "output_type": "stream",
          "text": [
            "\r  0%|          | 0/533 [00:00<?, ?it/s]"
          ],
          "name": "stderr"
        },
        {
          "output_type": "stream",
          "text": [
            "Epoch 17/500\n",
            "----------\n"
          ],
          "name": "stdout"
        },
        {
          "output_type": "stream",
          "text": [
            "100%|██████████| 533/533 [14:51<00:00,  1.67s/it]\n",
            "  0%|          | 0/133 [00:00<?, ?it/s]"
          ],
          "name": "stderr"
        },
        {
          "output_type": "stream",
          "text": [
            "Train Loss: 0.0404\n"
          ],
          "name": "stdout"
        },
        {
          "output_type": "stream",
          "text": [
            "100%|██████████| 133/133 [02:06<00:00,  1.05it/s]\n"
          ],
          "name": "stderr"
        },
        {
          "output_type": "stream",
          "text": [
            "Test Loss: 0.0372\n",
            "{'epoch': 17, 'Train_loss': 0.040411963603548595, 'Test_loss': 0.03721699714370309, 'Train_IoU': 0.8608577777753392, 'Train_f1_score': 0.99812734082397, 'Test_IoU': 0.8590383522446157, 'Test_f1_score': 0.9925373134328358}\n"
          ],
          "name": "stdout"
        },
        {
          "output_type": "stream",
          "text": [
            "\r  0%|          | 0/533 [00:00<?, ?it/s]"
          ],
          "name": "stderr"
        },
        {
          "output_type": "stream",
          "text": [
            "Epoch 18/500\n",
            "----------\n"
          ],
          "name": "stdout"
        },
        {
          "output_type": "stream",
          "text": [
            "100%|██████████| 533/533 [14:51<00:00,  1.67s/it]\n",
            "  0%|          | 0/133 [00:00<?, ?it/s]"
          ],
          "name": "stderr"
        },
        {
          "output_type": "stream",
          "text": [
            "Train Loss: 0.0569\n"
          ],
          "name": "stdout"
        },
        {
          "output_type": "stream",
          "text": [
            "100%|██████████| 133/133 [02:05<00:00,  1.06it/s]\n"
          ],
          "name": "stderr"
        },
        {
          "output_type": "stream",
          "text": [
            "Test Loss: 0.0357\n",
            "{'epoch': 18, 'Train_loss': 0.05688200182423077, 'Test_loss': 0.03565765970250895, 'Train_IoU': 0.8608554374032855, 'Train_f1_score': 0.99812734082397, 'Test_IoU': 0.8581493997469377, 'Test_f1_score': 0.9925373134328358}\n"
          ],
          "name": "stdout"
        },
        {
          "output_type": "stream",
          "text": [
            "\r  0%|          | 0/533 [00:00<?, ?it/s]"
          ],
          "name": "stderr"
        },
        {
          "output_type": "stream",
          "text": [
            "Epoch 19/500\n",
            "----------\n"
          ],
          "name": "stdout"
        },
        {
          "output_type": "stream",
          "text": [
            "100%|██████████| 533/533 [14:46<00:00,  1.66s/it]\n",
            "  0%|          | 0/133 [00:00<?, ?it/s]"
          ],
          "name": "stderr"
        },
        {
          "output_type": "stream",
          "text": [
            "Train Loss: 0.0402\n"
          ],
          "name": "stdout"
        },
        {
          "output_type": "stream",
          "text": [
            "100%|██████████| 133/133 [02:03<00:00,  1.08it/s]\n"
          ],
          "name": "stderr"
        },
        {
          "output_type": "stream",
          "text": [
            "Test Loss: 0.0351\n",
            "{'epoch': 19, 'Train_loss': 0.040160447228483706, 'Test_loss': 0.03509520130917422, 'Train_IoU': 0.8596561795865738, 'Train_f1_score': 0.99812734082397, 'Test_IoU': 0.8597391128627955, 'Test_f1_score': 0.9925373134328358}\n"
          ],
          "name": "stdout"
        },
        {
          "output_type": "stream",
          "text": [
            "\r  0%|          | 0/533 [00:00<?, ?it/s]"
          ],
          "name": "stderr"
        },
        {
          "output_type": "stream",
          "text": [
            "Epoch 20/500\n",
            "----------\n"
          ],
          "name": "stdout"
        },
        {
          "output_type": "stream",
          "text": [
            "100%|██████████| 533/533 [14:42<00:00,  1.66s/it]\n",
            "  0%|          | 0/133 [00:00<?, ?it/s]"
          ],
          "name": "stderr"
        },
        {
          "output_type": "stream",
          "text": [
            "Train Loss: 0.0292\n"
          ],
          "name": "stdout"
        },
        {
          "output_type": "stream",
          "text": [
            "100%|██████████| 133/133 [02:04<00:00,  1.07it/s]\n"
          ],
          "name": "stderr"
        },
        {
          "output_type": "stream",
          "text": [
            "Test Loss: 0.0278\n",
            "{'epoch': 20, 'Train_loss': 0.029249097621922657, 'Test_loss': 0.027835611443170878, 'Train_IoU': 0.8637410540276825, 'Train_f1_score': 0.99812734082397, 'Test_IoU': 0.8559867495713026, 'Test_f1_score': 0.9925373134328358}\n"
          ],
          "name": "stdout"
        },
        {
          "output_type": "stream",
          "text": [
            "\r  0%|          | 0/533 [00:00<?, ?it/s]"
          ],
          "name": "stderr"
        },
        {
          "output_type": "stream",
          "text": [
            "Epoch 21/500\n",
            "----------\n"
          ],
          "name": "stdout"
        },
        {
          "output_type": "stream",
          "text": [
            "100%|██████████| 533/533 [14:47<00:00,  1.67s/it]\n",
            "  0%|          | 0/133 [00:00<?, ?it/s]"
          ],
          "name": "stderr"
        },
        {
          "output_type": "stream",
          "text": [
            "Train Loss: 0.0279\n"
          ],
          "name": "stdout"
        },
        {
          "output_type": "stream",
          "text": [
            "100%|██████████| 133/133 [02:05<00:00,  1.06it/s]\n"
          ],
          "name": "stderr"
        },
        {
          "output_type": "stream",
          "text": [
            "Test Loss: 0.0421\n",
            "{'epoch': 21, 'Train_loss': 0.027944352235042234, 'Test_loss': 0.042063629193955954, 'Train_IoU': 0.86474390274901, 'Train_f1_score': 0.99812734082397, 'Test_IoU': 0.8615964939392343, 'Test_f1_score': 0.9925373134328358}\n"
          ],
          "name": "stdout"
        },
        {
          "output_type": "stream",
          "text": [
            "\r  0%|          | 0/533 [00:00<?, ?it/s]"
          ],
          "name": "stderr"
        },
        {
          "output_type": "stream",
          "text": [
            "Epoch 22/500\n",
            "----------\n"
          ],
          "name": "stdout"
        },
        {
          "output_type": "stream",
          "text": [
            "100%|██████████| 533/533 [14:45<00:00,  1.66s/it]\n",
            "  0%|          | 0/133 [00:00<?, ?it/s]"
          ],
          "name": "stderr"
        },
        {
          "output_type": "stream",
          "text": [
            "Train Loss: 0.0675\n"
          ],
          "name": "stdout"
        },
        {
          "output_type": "stream",
          "text": [
            "100%|██████████| 133/133 [02:04<00:00,  1.07it/s]\n"
          ],
          "name": "stderr"
        },
        {
          "output_type": "stream",
          "text": [
            "Test Loss: 0.0900\n",
            "{'epoch': 22, 'Train_loss': 0.06746116821839672, 'Test_loss': 0.09002976454594241, 'Train_IoU': 0.8590000298313847, 'Train_f1_score': 0.99812734082397, 'Test_IoU': 0.7333588465595158, 'Test_f1_score': 0.9925373134328358}\n"
          ],
          "name": "stdout"
        },
        {
          "output_type": "stream",
          "text": [
            "\r  0%|          | 0/533 [00:00<?, ?it/s]"
          ],
          "name": "stderr"
        },
        {
          "output_type": "stream",
          "text": [
            "Epoch 23/500\n",
            "----------\n"
          ],
          "name": "stdout"
        },
        {
          "output_type": "stream",
          "text": [
            "100%|██████████| 533/533 [14:44<00:00,  1.66s/it]\n",
            "  0%|          | 0/133 [00:00<?, ?it/s]"
          ],
          "name": "stderr"
        },
        {
          "output_type": "stream",
          "text": [
            "Train Loss: 0.0439\n"
          ],
          "name": "stdout"
        },
        {
          "output_type": "stream",
          "text": [
            "100%|██████████| 133/133 [02:05<00:00,  1.06it/s]\n"
          ],
          "name": "stderr"
        },
        {
          "output_type": "stream",
          "text": [
            "Test Loss: 0.0463\n",
            "{'epoch': 23, 'Train_loss': 0.04393665179762909, 'Test_loss': 0.04634046858652354, 'Train_IoU': 0.854216195023879, 'Train_f1_score': 0.99812734082397, 'Test_IoU': 0.8611200146910217, 'Test_f1_score': 0.9925373134328358}\n"
          ],
          "name": "stdout"
        },
        {
          "output_type": "stream",
          "text": [
            "\r  0%|          | 0/533 [00:00<?, ?it/s]"
          ],
          "name": "stderr"
        },
        {
          "output_type": "stream",
          "text": [
            "Epoch 24/500\n",
            "----------\n"
          ],
          "name": "stdout"
        },
        {
          "output_type": "stream",
          "text": [
            "100%|██████████| 533/533 [14:46<00:00,  1.66s/it]\n",
            "  0%|          | 0/133 [00:00<?, ?it/s]"
          ],
          "name": "stderr"
        },
        {
          "output_type": "stream",
          "text": [
            "Train Loss: 0.0373\n"
          ],
          "name": "stdout"
        },
        {
          "output_type": "stream",
          "text": [
            "100%|██████████| 133/133 [02:05<00:00,  1.06it/s]\n"
          ],
          "name": "stderr"
        },
        {
          "output_type": "stream",
          "text": [
            "Test Loss: 0.0522\n",
            "{'epoch': 24, 'Train_loss': 0.037265930989489986, 'Test_loss': 0.05222316671912465, 'Train_IoU': 0.8648744307823352, 'Train_f1_score': 0.99812734082397, 'Test_IoU': 0.8635062790751847, 'Test_f1_score': 0.9925373134328358}\n"
          ],
          "name": "stdout"
        },
        {
          "output_type": "stream",
          "text": [
            "\r  0%|          | 0/533 [00:00<?, ?it/s]"
          ],
          "name": "stderr"
        },
        {
          "output_type": "stream",
          "text": [
            "Epoch 25/500\n",
            "----------\n"
          ],
          "name": "stdout"
        },
        {
          "output_type": "stream",
          "text": [
            "100%|██████████| 533/533 [14:40<00:00,  1.65s/it]\n",
            "  0%|          | 0/133 [00:00<?, ?it/s]"
          ],
          "name": "stderr"
        },
        {
          "output_type": "stream",
          "text": [
            "Train Loss: 0.0547\n"
          ],
          "name": "stdout"
        },
        {
          "output_type": "stream",
          "text": [
            "100%|██████████| 133/133 [02:04<00:00,  1.06it/s]\n"
          ],
          "name": "stderr"
        },
        {
          "output_type": "stream",
          "text": [
            "Test Loss: 0.0348\n",
            "{'epoch': 25, 'Train_loss': 0.05469202098970751, 'Test_loss': 0.03479451826852063, 'Train_IoU': 0.8665085492806569, 'Train_f1_score': 0.99812734082397, 'Test_IoU': 0.8643658513334844, 'Test_f1_score': 0.9925373134328358}\n"
          ],
          "name": "stdout"
        },
        {
          "output_type": "stream",
          "text": [
            "\r  0%|          | 0/533 [00:00<?, ?it/s]"
          ],
          "name": "stderr"
        },
        {
          "output_type": "stream",
          "text": [
            "Epoch 26/500\n",
            "----------\n"
          ],
          "name": "stdout"
        },
        {
          "output_type": "stream",
          "text": [
            "100%|██████████| 533/533 [14:42<00:00,  1.66s/it]\n",
            "  0%|          | 0/133 [00:00<?, ?it/s]"
          ],
          "name": "stderr"
        },
        {
          "output_type": "stream",
          "text": [
            "Train Loss: 0.0228\n"
          ],
          "name": "stdout"
        },
        {
          "output_type": "stream",
          "text": [
            "100%|██████████| 133/133 [02:05<00:00,  1.06it/s]\n"
          ],
          "name": "stderr"
        },
        {
          "output_type": "stream",
          "text": [
            "Test Loss: 0.0399\n",
            "{'epoch': 26, 'Train_loss': 0.02282114892725556, 'Test_loss': 0.039855811127825894, 'Train_IoU': 0.867093527387743, 'Train_f1_score': 0.99812734082397, 'Test_IoU': 0.8634275303721406, 'Test_f1_score': 0.9925373134328358}\n"
          ],
          "name": "stdout"
        },
        {
          "output_type": "stream",
          "text": [
            "\r  0%|          | 0/533 [00:00<?, ?it/s]"
          ],
          "name": "stderr"
        },
        {
          "output_type": "stream",
          "text": [
            "Epoch 27/500\n",
            "----------\n"
          ],
          "name": "stdout"
        },
        {
          "output_type": "stream",
          "text": [
            "100%|██████████| 533/533 [14:45<00:00,  1.66s/it]\n",
            "  0%|          | 0/133 [00:00<?, ?it/s]"
          ],
          "name": "stderr"
        },
        {
          "output_type": "stream",
          "text": [
            "Train Loss: 0.0411\n"
          ],
          "name": "stdout"
        },
        {
          "output_type": "stream",
          "text": [
            "100%|██████████| 133/133 [02:04<00:00,  1.07it/s]\n"
          ],
          "name": "stderr"
        },
        {
          "output_type": "stream",
          "text": [
            "Test Loss: 0.0362\n",
            "{'epoch': 27, 'Train_loss': 0.04105017957570731, 'Test_loss': 0.03621501870948494, 'Train_IoU': 0.8675544916654213, 'Train_f1_score': 0.99812734082397, 'Test_IoU': 0.8641854971404519, 'Test_f1_score': 0.9925373134328358}\n"
          ],
          "name": "stdout"
        },
        {
          "output_type": "stream",
          "text": [
            "\r  0%|          | 0/533 [00:00<?, ?it/s]"
          ],
          "name": "stderr"
        },
        {
          "output_type": "stream",
          "text": [
            "Epoch 28/500\n",
            "----------\n"
          ],
          "name": "stdout"
        },
        {
          "output_type": "stream",
          "text": [
            "100%|██████████| 533/533 [14:42<00:00,  1.66s/it]\n",
            "  0%|          | 0/133 [00:00<?, ?it/s]"
          ],
          "name": "stderr"
        },
        {
          "output_type": "stream",
          "text": [
            "Train Loss: 0.0461\n"
          ],
          "name": "stdout"
        },
        {
          "output_type": "stream",
          "text": [
            "100%|██████████| 133/133 [02:05<00:00,  1.06it/s]\n"
          ],
          "name": "stderr"
        },
        {
          "output_type": "stream",
          "text": [
            "Test Loss: 0.0526\n",
            "{'epoch': 28, 'Train_loss': 0.04614617317623518, 'Test_loss': 0.05258201540481213, 'Train_IoU': 0.8676270026219559, 'Train_f1_score': 0.99812734082397, 'Test_IoU': 0.8639394735089345, 'Test_f1_score': 0.9925373134328358}\n"
          ],
          "name": "stdout"
        },
        {
          "output_type": "stream",
          "text": [
            "\r  0%|          | 0/533 [00:00<?, ?it/s]"
          ],
          "name": "stderr"
        },
        {
          "output_type": "stream",
          "text": [
            "Epoch 29/500\n",
            "----------\n"
          ],
          "name": "stdout"
        },
        {
          "output_type": "stream",
          "text": [
            "100%|██████████| 533/533 [14:46<00:00,  1.66s/it]\n",
            "  0%|          | 0/133 [00:00<?, ?it/s]"
          ],
          "name": "stderr"
        },
        {
          "output_type": "stream",
          "text": [
            "Train Loss: 0.0287\n"
          ],
          "name": "stdout"
        },
        {
          "output_type": "stream",
          "text": [
            "100%|██████████| 133/133 [02:05<00:00,  1.06it/s]\n"
          ],
          "name": "stderr"
        },
        {
          "output_type": "stream",
          "text": [
            "Test Loss: 0.0404\n",
            "{'epoch': 29, 'Train_loss': 0.028736649181614848, 'Test_loss': 0.04038242869317835, 'Train_IoU': 0.866245130761087, 'Train_f1_score': 0.99812734082397, 'Test_IoU': 0.8646065836666037, 'Test_f1_score': 0.9925373134328358}\n"
          ],
          "name": "stdout"
        },
        {
          "output_type": "stream",
          "text": [
            "\r  0%|          | 0/533 [00:00<?, ?it/s]"
          ],
          "name": "stderr"
        },
        {
          "output_type": "stream",
          "text": [
            "Epoch 30/500\n",
            "----------\n"
          ],
          "name": "stdout"
        },
        {
          "output_type": "stream",
          "text": [
            "100%|██████████| 533/533 [14:33<00:00,  1.64s/it]\n",
            "  0%|          | 0/133 [00:00<?, ?it/s]"
          ],
          "name": "stderr"
        },
        {
          "output_type": "stream",
          "text": [
            "Train Loss: 0.0450\n"
          ],
          "name": "stdout"
        },
        {
          "output_type": "stream",
          "text": [
            "100%|██████████| 133/133 [02:00<00:00,  1.10it/s]\n"
          ],
          "name": "stderr"
        },
        {
          "output_type": "stream",
          "text": [
            "Test Loss: 0.0672\n",
            "{'epoch': 30, 'Train_loss': 0.04499147094079105, 'Test_loss': 0.06722547746790679, 'Train_IoU': 0.8613407481742872, 'Train_f1_score': 0.99812734082397, 'Test_IoU': 0.6975873294652697, 'Test_f1_score': 0.9925373134328358}\n"
          ],
          "name": "stdout"
        },
        {
          "output_type": "stream",
          "text": [
            "\r  0%|          | 0/533 [00:00<?, ?it/s]"
          ],
          "name": "stderr"
        },
        {
          "output_type": "stream",
          "text": [
            "Epoch 31/500\n",
            "----------\n"
          ],
          "name": "stdout"
        },
        {
          "output_type": "stream",
          "text": [
            "100%|██████████| 533/533 [14:36<00:00,  1.64s/it]\n",
            "  0%|          | 0/133 [00:00<?, ?it/s]"
          ],
          "name": "stderr"
        },
        {
          "output_type": "stream",
          "text": [
            "Train Loss: 0.0509\n"
          ],
          "name": "stdout"
        },
        {
          "output_type": "stream",
          "text": [
            "100%|██████████| 133/133 [02:01<00:00,  1.09it/s]\n"
          ],
          "name": "stderr"
        },
        {
          "output_type": "stream",
          "text": [
            "Test Loss: 0.0380\n",
            "{'epoch': 31, 'Train_loss': 0.05092637537629754, 'Test_loss': 0.03799504507785942, 'Train_IoU': 0.8617566099634028, 'Train_f1_score': 0.99812734082397, 'Test_IoU': 0.8581603033106775, 'Test_f1_score': 0.9925373134328358}\n"
          ],
          "name": "stdout"
        },
        {
          "output_type": "stream",
          "text": [
            "\r  0%|          | 0/533 [00:00<?, ?it/s]"
          ],
          "name": "stderr"
        },
        {
          "output_type": "stream",
          "text": [
            "Epoch 32/500\n",
            "----------\n"
          ],
          "name": "stdout"
        },
        {
          "output_type": "stream",
          "text": [
            "100%|██████████| 533/533 [14:32<00:00,  1.64s/it]\n",
            "  0%|          | 0/133 [00:00<?, ?it/s]"
          ],
          "name": "stderr"
        },
        {
          "output_type": "stream",
          "text": [
            "Train Loss: 0.0294\n"
          ],
          "name": "stdout"
        },
        {
          "output_type": "stream",
          "text": [
            "100%|██████████| 133/133 [02:03<00:00,  1.07it/s]\n"
          ],
          "name": "stderr"
        },
        {
          "output_type": "stream",
          "text": [
            "Test Loss: 0.0343\n",
            "{'epoch': 32, 'Train_loss': 0.02936245452731865, 'Test_loss': 0.03433873676960667, 'Train_IoU': 0.8677794003263257, 'Train_f1_score': 0.99812734082397, 'Test_IoU': 0.865655961750293, 'Test_f1_score': 0.9925373134328358}\n"
          ],
          "name": "stdout"
        },
        {
          "output_type": "stream",
          "text": [
            "\r  0%|          | 0/533 [00:00<?, ?it/s]"
          ],
          "name": "stderr"
        },
        {
          "output_type": "stream",
          "text": [
            "Epoch 33/500\n",
            "----------\n"
          ],
          "name": "stdout"
        },
        {
          "output_type": "stream",
          "text": [
            "100%|██████████| 533/533 [14:25<00:00,  1.62s/it]\n",
            "  0%|          | 0/133 [00:00<?, ?it/s]"
          ],
          "name": "stderr"
        },
        {
          "output_type": "stream",
          "text": [
            "Train Loss: 0.0375\n"
          ],
          "name": "stdout"
        },
        {
          "output_type": "stream",
          "text": [
            "100%|██████████| 133/133 [02:03<00:00,  1.07it/s]\n"
          ],
          "name": "stderr"
        },
        {
          "output_type": "stream",
          "text": [
            "Test Loss: 0.0438\n",
            "{'epoch': 33, 'Train_loss': 0.03748350567777201, 'Test_loss': 0.04379537839051684, 'Train_IoU': 0.8692360310062546, 'Train_f1_score': 0.99812734082397, 'Test_IoU': 0.8661967205880352, 'Test_f1_score': 0.9925373134328358}\n"
          ],
          "name": "stdout"
        },
        {
          "output_type": "stream",
          "text": [
            "\r  0%|          | 0/533 [00:00<?, ?it/s]"
          ],
          "name": "stderr"
        },
        {
          "output_type": "stream",
          "text": [
            "Epoch 34/500\n",
            "----------\n"
          ],
          "name": "stdout"
        },
        {
          "output_type": "stream",
          "text": [
            "100%|██████████| 533/533 [14:35<00:00,  1.64s/it]\n",
            "  0%|          | 0/133 [00:00<?, ?it/s]"
          ],
          "name": "stderr"
        },
        {
          "output_type": "stream",
          "text": [
            "Train Loss: 0.0390\n"
          ],
          "name": "stdout"
        },
        {
          "output_type": "stream",
          "text": [
            "100%|██████████| 133/133 [01:59<00:00,  1.11it/s]\n"
          ],
          "name": "stderr"
        },
        {
          "output_type": "stream",
          "text": [
            "Test Loss: 0.0283\n",
            "{'epoch': 34, 'Train_loss': 0.03904949120415829, 'Test_loss': 0.028346382726459722, 'Train_IoU': 0.8696991041765835, 'Train_f1_score': 0.99812734082397, 'Test_IoU': 0.8658399007221036, 'Test_f1_score': 0.9925373134328358}\n"
          ],
          "name": "stdout"
        },
        {
          "output_type": "stream",
          "text": [
            "\r  0%|          | 0/533 [00:00<?, ?it/s]"
          ],
          "name": "stderr"
        },
        {
          "output_type": "stream",
          "text": [
            "Epoch 35/500\n",
            "----------\n"
          ],
          "name": "stdout"
        },
        {
          "output_type": "stream",
          "text": [
            "100%|██████████| 533/533 [14:22<00:00,  1.62s/it]\n",
            "  0%|          | 0/133 [00:00<?, ?it/s]"
          ],
          "name": "stderr"
        },
        {
          "output_type": "stream",
          "text": [
            "Train Loss: 0.0323\n"
          ],
          "name": "stdout"
        },
        {
          "output_type": "stream",
          "text": [
            "100%|██████████| 133/133 [02:00<00:00,  1.10it/s]\n"
          ],
          "name": "stderr"
        },
        {
          "output_type": "stream",
          "text": [
            "Test Loss: 0.0432\n",
            "{'epoch': 35, 'Train_loss': 0.03229211121415326, 'Test_loss': 0.043246970826384075, 'Train_IoU': 0.8698327762879307, 'Train_f1_score': 0.99812734082397, 'Test_IoU': 0.7289297500096817, 'Test_f1_score': 0.9925373134328358}\n"
          ],
          "name": "stdout"
        },
        {
          "output_type": "stream",
          "text": [
            "\r  0%|          | 0/533 [00:00<?, ?it/s]"
          ],
          "name": "stderr"
        },
        {
          "output_type": "stream",
          "text": [
            "Epoch 36/500\n",
            "----------\n"
          ],
          "name": "stdout"
        },
        {
          "output_type": "stream",
          "text": [
            "100%|██████████| 533/533 [14:20<00:00,  1.61s/it]\n",
            "  0%|          | 0/133 [00:00<?, ?it/s]"
          ],
          "name": "stderr"
        },
        {
          "output_type": "stream",
          "text": [
            "Train Loss: 0.0348\n"
          ],
          "name": "stdout"
        },
        {
          "output_type": "stream",
          "text": [
            "100%|██████████| 133/133 [01:58<00:00,  1.13it/s]\n"
          ],
          "name": "stderr"
        },
        {
          "output_type": "stream",
          "text": [
            "Test Loss: 0.0390\n",
            "{'epoch': 36, 'Train_loss': 0.03484229162526087, 'Test_loss': 0.03902798463724703, 'Train_IoU': 0.8700230130890549, 'Train_f1_score': 0.99812734082397, 'Test_IoU': 0.8525096066272778, 'Test_f1_score': 0.9925373134328358}\n"
          ],
          "name": "stdout"
        },
        {
          "output_type": "stream",
          "text": [
            "\r  0%|          | 0/533 [00:00<?, ?it/s]"
          ],
          "name": "stderr"
        },
        {
          "output_type": "stream",
          "text": [
            "Epoch 37/500\n",
            "----------\n"
          ],
          "name": "stdout"
        },
        {
          "output_type": "stream",
          "text": [
            "100%|██████████| 533/533 [14:13<00:00,  1.60s/it]\n",
            "  0%|          | 0/133 [00:00<?, ?it/s]"
          ],
          "name": "stderr"
        },
        {
          "output_type": "stream",
          "text": [
            "Train Loss: 0.0470\n"
          ],
          "name": "stdout"
        },
        {
          "output_type": "stream",
          "text": [
            "100%|██████████| 133/133 [02:01<00:00,  1.09it/s]\n"
          ],
          "name": "stderr"
        },
        {
          "output_type": "stream",
          "text": [
            "Test Loss: 0.0473\n",
            "{'epoch': 37, 'Train_loss': 0.04698641058431588, 'Test_loss': 0.047266144789044486, 'Train_IoU': 0.8567119811626707, 'Train_f1_score': 0.99812734082397, 'Test_IoU': 0.8621031345238102, 'Test_f1_score': 0.9925373134328358}\n"
          ],
          "name": "stdout"
        },
        {
          "output_type": "stream",
          "text": [
            "\r  0%|          | 0/533 [00:00<?, ?it/s]"
          ],
          "name": "stderr"
        },
        {
          "output_type": "stream",
          "text": [
            "Epoch 38/500\n",
            "----------\n"
          ],
          "name": "stdout"
        },
        {
          "output_type": "stream",
          "text": [
            "100%|██████████| 533/533 [14:21<00:00,  1.62s/it]\n",
            "  0%|          | 0/133 [00:00<?, ?it/s]"
          ],
          "name": "stderr"
        },
        {
          "output_type": "stream",
          "text": [
            "Train Loss: 0.0465\n"
          ],
          "name": "stdout"
        },
        {
          "output_type": "stream",
          "text": [
            "100%|██████████| 133/133 [01:58<00:00,  1.12it/s]\n"
          ],
          "name": "stderr"
        },
        {
          "output_type": "stream",
          "text": [
            "Test Loss: 0.0294\n",
            "{'epoch': 38, 'Train_loss': 0.04651146848821619, 'Test_loss': 0.02942004730284924, 'Train_IoU': 0.8690986818102894, 'Train_f1_score': 0.99812734082397, 'Test_IoU': 0.866736960786577, 'Test_f1_score': 0.9925373134328358}\n"
          ],
          "name": "stdout"
        },
        {
          "output_type": "stream",
          "text": [
            "\r  0%|          | 0/533 [00:00<?, ?it/s]"
          ],
          "name": "stderr"
        },
        {
          "output_type": "stream",
          "text": [
            "Epoch 39/500\n",
            "----------\n"
          ],
          "name": "stdout"
        },
        {
          "output_type": "stream",
          "text": [
            "100%|██████████| 533/533 [14:16<00:00,  1.61s/it]\n",
            "  0%|          | 0/133 [00:00<?, ?it/s]"
          ],
          "name": "stderr"
        },
        {
          "output_type": "stream",
          "text": [
            "Train Loss: 0.0439\n"
          ],
          "name": "stdout"
        },
        {
          "output_type": "stream",
          "text": [
            "100%|██████████| 133/133 [02:02<00:00,  1.08it/s]\n"
          ],
          "name": "stderr"
        },
        {
          "output_type": "stream",
          "text": [
            "Test Loss: 0.0408\n",
            "{'epoch': 39, 'Train_loss': 0.04390126598916488, 'Test_loss': 0.040790578511032245, 'Train_IoU': 0.8706048419198589, 'Train_f1_score': 0.99812734082397, 'Test_IoU': 0.8673073945195321, 'Test_f1_score': 0.9925373134328358}\n"
          ],
          "name": "stdout"
        },
        {
          "output_type": "stream",
          "text": [
            "\r  0%|          | 0/533 [00:00<?, ?it/s]"
          ],
          "name": "stderr"
        },
        {
          "output_type": "stream",
          "text": [
            "Epoch 40/500\n",
            "----------\n"
          ],
          "name": "stdout"
        },
        {
          "output_type": "stream",
          "text": [
            "100%|██████████| 533/533 [14:20<00:00,  1.61s/it]\n",
            "  0%|          | 0/133 [00:00<?, ?it/s]"
          ],
          "name": "stderr"
        },
        {
          "output_type": "stream",
          "text": [
            "Train Loss: 0.0293\n"
          ],
          "name": "stdout"
        },
        {
          "output_type": "stream",
          "text": [
            "100%|██████████| 133/133 [01:56<00:00,  1.14it/s]\n"
          ],
          "name": "stderr"
        },
        {
          "output_type": "stream",
          "text": [
            "Test Loss: 0.0303\n",
            "{'epoch': 40, 'Train_loss': 0.029346596586481418, 'Test_loss': 0.030296818802013414, 'Train_IoU': 0.871238210251819, 'Train_f1_score': 0.99812734082397, 'Test_IoU': 0.8672657100491615, 'Test_f1_score': 0.9925373134328358}\n"
          ],
          "name": "stdout"
        },
        {
          "output_type": "stream",
          "text": [
            "\r  0%|          | 0/533 [00:00<?, ?it/s]"
          ],
          "name": "stderr"
        },
        {
          "output_type": "stream",
          "text": [
            "Epoch 41/500\n",
            "----------\n"
          ],
          "name": "stdout"
        },
        {
          "output_type": "stream",
          "text": [
            "100%|██████████| 533/533 [14:11<00:00,  1.60s/it]\n",
            "  0%|          | 0/133 [00:00<?, ?it/s]"
          ],
          "name": "stderr"
        },
        {
          "output_type": "stream",
          "text": [
            "Train Loss: 0.0347\n"
          ],
          "name": "stdout"
        },
        {
          "output_type": "stream",
          "text": [
            "100%|██████████| 133/133 [01:55<00:00,  1.15it/s]\n"
          ],
          "name": "stderr"
        },
        {
          "output_type": "stream",
          "text": [
            "Test Loss: 0.0403\n",
            "{'epoch': 41, 'Train_loss': 0.03467311618198168, 'Test_loss': 0.04025335885358081, 'Train_IoU': 0.8696752133058844, 'Train_f1_score': 0.99812734082397, 'Test_IoU': 0.8668841821577093, 'Test_f1_score': 0.9925373134328358}\n"
          ],
          "name": "stdout"
        },
        {
          "output_type": "stream",
          "text": [
            "\r  0%|          | 0/533 [00:00<?, ?it/s]"
          ],
          "name": "stderr"
        },
        {
          "output_type": "stream",
          "text": [
            "Epoch 42/500\n",
            "----------\n"
          ],
          "name": "stdout"
        },
        {
          "output_type": "stream",
          "text": [
            "100%|██████████| 533/533 [14:13<00:00,  1.60s/it]\n",
            "  0%|          | 0/133 [00:00<?, ?it/s]"
          ],
          "name": "stderr"
        },
        {
          "output_type": "stream",
          "text": [
            "Train Loss: 0.0328\n"
          ],
          "name": "stdout"
        },
        {
          "output_type": "stream",
          "text": [
            "100%|██████████| 133/133 [01:57<00:00,  1.13it/s]\n"
          ],
          "name": "stderr"
        },
        {
          "output_type": "stream",
          "text": [
            "Test Loss: 0.0452\n",
            "{'epoch': 42, 'Train_loss': 0.03282094185883799, 'Test_loss': 0.04521408681271436, 'Train_IoU': 0.8713693215716138, 'Train_f1_score': 0.99812734082397, 'Test_IoU': 0.8674869698461224, 'Test_f1_score': 0.9925373134328358}\n"
          ],
          "name": "stdout"
        },
        {
          "output_type": "stream",
          "text": [
            "\r  0%|          | 0/533 [00:00<?, ?it/s]"
          ],
          "name": "stderr"
        },
        {
          "output_type": "stream",
          "text": [
            "Epoch 43/500\n",
            "----------\n"
          ],
          "name": "stdout"
        },
        {
          "output_type": "stream",
          "text": [
            "100%|██████████| 533/533 [14:21<00:00,  1.62s/it]\n",
            "  0%|          | 0/133 [00:00<?, ?it/s]"
          ],
          "name": "stderr"
        },
        {
          "output_type": "stream",
          "text": [
            "Train Loss: 0.0273\n"
          ],
          "name": "stdout"
        },
        {
          "output_type": "stream",
          "text": [
            "100%|██████████| 133/133 [01:59<00:00,  1.11it/s]\n"
          ],
          "name": "stderr"
        },
        {
          "output_type": "stream",
          "text": [
            "Test Loss: 0.0322\n",
            "{'epoch': 43, 'Train_loss': 0.027311094566155835, 'Test_loss': 0.03223806599932028, 'Train_IoU': 0.871396489274741, 'Train_f1_score': 0.99812734082397, 'Test_IoU': 0.8678397211071625, 'Test_f1_score': 0.9925373134328358}\n"
          ],
          "name": "stdout"
        },
        {
          "output_type": "stream",
          "text": [
            "\r  0%|          | 0/533 [00:00<?, ?it/s]"
          ],
          "name": "stderr"
        },
        {
          "output_type": "stream",
          "text": [
            "Epoch 44/500\n",
            "----------\n"
          ],
          "name": "stdout"
        },
        {
          "output_type": "stream",
          "text": [
            "100%|██████████| 533/533 [14:19<00:00,  1.61s/it]\n",
            "  0%|          | 0/133 [00:00<?, ?it/s]"
          ],
          "name": "stderr"
        },
        {
          "output_type": "stream",
          "text": [
            "Train Loss: 0.0252\n"
          ],
          "name": "stdout"
        },
        {
          "output_type": "stream",
          "text": [
            "100%|██████████| 133/133 [01:58<00:00,  1.12it/s]\n"
          ],
          "name": "stderr"
        },
        {
          "output_type": "stream",
          "text": [
            "Test Loss: 0.0279\n",
            "{'epoch': 44, 'Train_loss': 0.025153630834643097, 'Test_loss': 0.027935035780628885, 'Train_IoU': 0.871824414116722, 'Train_f1_score': 0.99812734082397, 'Test_IoU': 0.8675327966345657, 'Test_f1_score': 0.9925373134328358}\n"
          ],
          "name": "stdout"
        },
        {
          "output_type": "stream",
          "text": [
            "\r  0%|          | 0/533 [00:00<?, ?it/s]"
          ],
          "name": "stderr"
        },
        {
          "output_type": "stream",
          "text": [
            "Epoch 45/500\n",
            "----------\n"
          ],
          "name": "stdout"
        },
        {
          "output_type": "stream",
          "text": [
            "100%|██████████| 533/533 [14:12<00:00,  1.60s/it]\n",
            "  0%|          | 0/133 [00:00<?, ?it/s]"
          ],
          "name": "stderr"
        },
        {
          "output_type": "stream",
          "text": [
            "Train Loss: 0.0370\n"
          ],
          "name": "stdout"
        },
        {
          "output_type": "stream",
          "text": [
            "100%|██████████| 133/133 [01:56<00:00,  1.14it/s]\n"
          ],
          "name": "stderr"
        },
        {
          "output_type": "stream",
          "text": [
            "Test Loss: 0.0436\n",
            "{'epoch': 45, 'Train_loss': 0.03695639639780592, 'Test_loss': 0.04362560463823835, 'Train_IoU': 0.8719916759407139, 'Train_f1_score': 0.99812734082397, 'Test_IoU': 0.8672307497080839, 'Test_f1_score': 0.9925373134328358}\n"
          ],
          "name": "stdout"
        },
        {
          "output_type": "stream",
          "text": [
            "\r  0%|          | 0/533 [00:00<?, ?it/s]"
          ],
          "name": "stderr"
        },
        {
          "output_type": "stream",
          "text": [
            "Epoch 46/500\n",
            "----------\n"
          ],
          "name": "stdout"
        },
        {
          "output_type": "stream",
          "text": [
            "100%|██████████| 533/533 [14:01<00:00,  1.58s/it]\n",
            "  0%|          | 0/133 [00:00<?, ?it/s]"
          ],
          "name": "stderr"
        },
        {
          "output_type": "stream",
          "text": [
            "Train Loss: 0.0268\n"
          ],
          "name": "stdout"
        },
        {
          "output_type": "stream",
          "text": [
            "100%|██████████| 133/133 [01:53<00:00,  1.17it/s]\n"
          ],
          "name": "stderr"
        },
        {
          "output_type": "stream",
          "text": [
            "Test Loss: 0.0325\n",
            "{'epoch': 46, 'Train_loss': 0.026819872937566616, 'Test_loss': 0.03249600513423786, 'Train_IoU': 0.8721751193490349, 'Train_f1_score': 0.99812734082397, 'Test_IoU': 0.8675053310685175, 'Test_f1_score': 0.9925373134328358}\n"
          ],
          "name": "stdout"
        },
        {
          "output_type": "stream",
          "text": [
            "\r  0%|          | 0/533 [00:00<?, ?it/s]"
          ],
          "name": "stderr"
        },
        {
          "output_type": "stream",
          "text": [
            "Epoch 47/500\n",
            "----------\n"
          ],
          "name": "stdout"
        },
        {
          "output_type": "stream",
          "text": [
            " 24%|██▍       | 127/533 [03:19<10:31,  1.56s/it]"
          ],
          "name": "stderr"
        }
      ]
    },
    {
      "cell_type": "code",
      "metadata": {
        "id": "UoSzbRPN0XJJ"
      },
      "source": [
        ""
      ],
      "execution_count": null,
      "outputs": []
    },
    {
      "cell_type": "markdown",
      "metadata": {
        "id": "A302NkR6hTIz"
      },
      "source": [
        ""
      ]
    }
  ]
}