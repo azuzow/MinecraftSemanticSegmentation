{
 "cells": [
  {
   "cell_type": "markdown",
   "metadata": {},
   "source": [
    "#### parsing labels.txt"
   ]
  },
  {
   "cell_type": "code",
   "execution_count": 3,
   "metadata": {},
   "outputs": [],
   "source": [
    "import torch\n",
    "from torchvision.models.segmentation.deeplabv3 import DeepLabHead\n",
    "from torchvision.models.segmentation import deeplabv3_resnet101"
   ]
  },
  {
   "cell_type": "code",
   "execution_count": 8,
   "metadata": {},
   "outputs": [],
   "source": [
    "def read_labels(file):\n",
    "    f = open(file, \"r\")\n",
    "    label_dict = {}\n",
    "    index_dict = {}\n",
    "    while True:\n",
    "        line = f.readline()   \n",
    "        if not line:\n",
    "            break\n",
    "        line_parsed = line.strip().split(':')\n",
    "        print(line_parsed)\n",
    "        rgb = tuple([int(c) for c in line_parsed[-2].split(',')])\n",
    "        label_dict[rgb] = line_parsed[-1]\n",
    "\n",
    "        index_dict[rgb] = line_parsed[0]\n",
    "   \n",
    "    return label_dict, index_dict"
   ]
  },
  {
   "cell_type": "code",
   "execution_count": 9,
   "metadata": {},
   "outputs": [
    {
     "name": "stdout",
     "output_type": "stream",
     "text": [
      "['0', '255,75,32', 'flower']\n",
      "['1', '76,32,78', 'lava']\n"
     ]
    },
    {
     "data": {
      "text/plain": [
       "({(255, 75, 32): 'flower', (76, 32, 78): 'lava'},\n",
       " {(255, 75, 32): '0', (76, 32, 78): '1'})"
      ]
     },
     "execution_count": 9,
     "metadata": {},
     "output_type": "execute_result"
    }
   ],
   "source": [
    "read_labels(\"labels.txt\")"
   ]
  },
  {
   "cell_type": "markdown",
   "metadata": {},
   "source": [
    "#### loading minescraft dataset"
   ]
  },
  {
   "cell_type": "code",
   "execution_count": null,
   "metadata": {},
   "outputs": [],
   "source": []
  },
  {
   "cell_type": "markdown",
   "metadata": {},
   "source": [
    "#### model architecture"
   ]
  },
  {
   "cell_type": "code",
   "execution_count": null,
   "metadata": {},
   "outputs": [],
   "source": []
  },
  {
   "cell_type": "markdown",
   "metadata": {},
   "source": [
    "#### pretraining deeplabv3"
   ]
  },
  {
   "cell_type": "code",
   "execution_count": null,
   "metadata": {},
   "outputs": [],
   "source": [
    "def new_custom_deeplabv3(outputchannels=1):\n",
    "    model = deeplabv3_resnet101(pretrained=True, progress=True)\n",
    "    model.classifier = DeepLabHead(2048, outputchannels)\n",
    "\n",
    "    model.train()\n",
    "    return model"
   ]
  },
  {
   "cell_type": "markdown",
   "metadata": {},
   "source": [
    "#### model evaluation"
   ]
  },
  {
   "cell_type": "code",
   "execution_count": null,
   "metadata": {},
   "outputs": [],
   "source": []
  }
 ],
 "metadata": {
  "kernelspec": {
   "display_name": "Python 3",
   "language": "python",
   "name": "python3"
  },
  "language_info": {
   "codemirror_mode": {
    "name": "ipython",
    "version": 3
   },
   "file_extension": ".py",
   "mimetype": "text/x-python",
   "name": "python",
   "nbconvert_exporter": "python",
   "pygments_lexer": "ipython3",
   "version": "3.7.3"
  }
 },
 "nbformat": 4,
 "nbformat_minor": 4
}
