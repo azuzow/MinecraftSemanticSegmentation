{
  "nbformat": 4,
  "nbformat_minor": 0,
  "metadata": {
    "kernelspec": {
      "display_name": "Python 3",
      "language": "python",
      "name": "python3"
    },
    "language_info": {
      "codemirror_mode": {
        "name": "ipython",
        "version": 3
      },
      "file_extension": ".py",
      "mimetype": "text/x-python",
      "name": "python",
      "nbconvert_exporter": "python",
      "pygments_lexer": "ipython3",
      "version": "3.7.9"
    },
    "colab": {
      "name": "showcase.ipynb",
      "provenance": [],
      "collapsed_sections": []
    },
    "accelerator": "GPU"
  },
  "cells": [
    {
      "cell_type": "code",
      "metadata": {
        "colab": {
          "base_uri": "https://localhost:8080/"
        },
        "id": "8dkfyNpu0kAP",
        "outputId": "8d8c15a4-70f0-4132-b086-0d41a2836a9c"
      },
      "source": [
        "try:\n",
        "    # --- Mount gdrive to /content/drive/My Drive/\n",
        "    from google.colab import drive\n",
        "    drive.mount('/content/drive')\n",
        "    \n",
        "except: pass"
      ],
      "execution_count": 1,
      "outputs": [
        {
          "output_type": "stream",
          "text": [
            "Drive already mounted at /content/drive; to attempt to forcibly remount, call drive.mount(\"/content/drive\", force_remount=True).\n"
          ],
          "name": "stdout"
        }
      ]
    },
    {
      "cell_type": "code",
      "metadata": {
        "colab": {
          "base_uri": "https://localhost:8080/"
        },
        "id": "cyFDw2tzvvld",
        "outputId": "9096e8ed-3612-4158-e5e9-8ea4a77edee9"
      },
      "source": [
        "!pip install colormath\n",
        "import numpy as np\n",
        "from PIL import Image\n",
        "from PIL import ImageColor\n",
        "import pandas as pd\n",
        "from collections import Counter,OrderedDict\n",
        "from itertools import dropwhile\n",
        "from colormath.color_objects import sRGBColor, LabColor,LuvColor\n",
        "from colormath.color_conversions import convert_color\n",
        "from colormath.color_diff import delta_e_cie2000,delta_e_cmc,delta_e_cie1976\n",
        "import cv2 \n",
        "import os \n",
        "import sys"
      ],
      "execution_count": 2,
      "outputs": [
        {
          "output_type": "stream",
          "text": [
            "Requirement already satisfied: colormath in /usr/local/lib/python3.6/dist-packages (3.0.0)\n",
            "Requirement already satisfied: networkx>=2.0 in /usr/local/lib/python3.6/dist-packages (from colormath) (2.5)\n",
            "Requirement already satisfied: numpy in /usr/local/lib/python3.6/dist-packages (from colormath) (1.19.4)\n",
            "Requirement already satisfied: decorator>=4.3.0 in /usr/local/lib/python3.6/dist-packages (from networkx>=2.0->colormath) (4.4.2)\n"
          ],
          "name": "stdout"
        }
      ]
    },
    {
      "cell_type": "code",
      "metadata": {
        "colab": {
          "base_uri": "https://localhost:8080/"
        },
        "id": "LpC3FL6nvvln",
        "outputId": "513bbac7-8f60-467f-9a7c-1fe78f68d686"
      },
      "source": [
        "color_to_class = {\n",
        "    '#2d2c00':'stone',\n",
        "    '#b87117':'granite',\n",
        "    '#9fb816':'polished granite',\n",
        "    '#e8e700':'diorite',\n",
        "    '#ce2c15':'polished diorite',\n",
        "    '#157200':'andesite',\n",
        "    '#00b800':'polished andesite',\n",
        "    '#5c2c44':'grass block',\n",
        "    '#5aa115':'dirt',\n",
        "    '#16a017':'coarse dirt',\n",
        "    '#44e616':'podzol',\n",
        "    '#5cd015':'cobblestone',\n",
        "    '#5be700':'oak wood plank',\n",
        "    '#452d15':'spruce wood plank',\n",
        "    '#8b5c00':'birch wood plank',\n",
        "    '#73a100':'jungle wood plank',\n",
        "    '#2d165c':'acacia wood plank',\n",
        "    '#a11400':'dark oak wood plank',\n",
        "    '#16d000':'bedrock',\n",
        "    '#a1d046':'sand',\n",
        "    '#2d002b':'red sand',\n",
        "    '#a12d44':'gravel',\n",
        "    '#002d44':'gold ore',\n",
        "    '#00b846':'iron ore',\n",
        "    '#00a016':'coal ore',\n",
        "    '#a1005d':'oak wood',\n",
        "    '#d0015c':'spruce wood',\n",
        "    '#45005b':'birch wood',\n",
        "    '#73005b':'jungle wood',\n",
        "    '#a2e645':'oak leaf',\n",
        "    '#b8e645':'spruce leaf',\n",
        "    '#00ce45':'birch leaf',\n",
        "    '#15d043':'jungle leaf',\n",
        "    '#5e732e':'glass',\n",
        "    '#a1b846':'lapiz lazuli',\n",
        "    '#e65b00':'sandstone',\n",
        "    '#012c00':'chiseled sandstone',\n",
        "    '#d0a000':'smooth sandstone',\n",
        "    '#b7002c':'wool',\n",
        "    '#894400':'brick',\n",
        "    '#5e8a01':'bookshelf',\n",
        "    '#73cf16':'mossy cobblestone',\n",
        "    '#b7722d':'obsidian',\n",
        "    '#725b17':'diamond ore',\n",
        "    '#00742d':'furnace',\n",
        "    '#892d16':'redstone ore',\n",
        "    '#2d8a44':'ice block',\n",
        "    '#005b46':'snow block',\n",
        "    '#758a45':'pumpkin',\n",
        "    '#d08917':'clay block',\n",
        "    '#5b8a2c':'stone brick',\n",
        "    '#165c44':'mossy stone brick',\n",
        "    '#2d1644':'cracked stone brick',\n",
        "    '#45d02d':'chiseled stone brick',\n",
        "    '#cfa044':'iron bars',\n",
        "    '#5dd02d':'vine',\n",
        "    '#711500':'melon',\n",
        "    '#740146':'mycelium',\n",
        "    '#5c4444':'mycelium',\n",
        "    '#ceb946':'acacia leaf',\n",
        "    '#e7b844':'dark oak leaf',\n",
        "    '#e8e644':'acacia wood',\n",
        "    '#15005b':'dark oak wood',\n",
        "    '#5dd001':'cactus',\n",
        "    '#9f5169':'player',\n",
        "    '#b9b715':'torch',\n",
        "    '#2c2c46':'village road',\n",
        "    '#8b2d45':'grass',\n",
        "    '#b9005d':'oak wood',\n",
        "    '#e7005c':'spruce wood',\n",
        "    '#d08917':'clay block',\n",
        "    '#001601':'podzol',\n",
        "    '#2de700':'melon',\n",
        "    '#004518':'wheat',\n",
        "    '#2e1616':'wheat',\n",
        "    '#170015':'wheat',\n",
        "    '#592d00':'wheat',\n",
        "    '#e57217':'wheat',\n",
        "    '#437200':'wheat',\n",
        "    '#e8165d':'wheat',\n",
        "    '#171717':'wheat',\n",
        "    '#16b900':'grass',\n",
        "    '#e7162c':'fern',\n",
        "    '#b94400':'dead bush',\n",
        "    '#5d2d2d':'yellow flower',\n",
        "    '#2d5b2c':'red flower',\n",
        "    '#462c2b':'blue flower',\n",
        "    '#2e2e2e':'purple flower',\n",
        "    '#2e2e2c':'purple flower',\n",
        "    '#732b2e':'white flower',\n",
        "    '#725c2d':'red tulip',\n",
        "    '#e6d000':'tall grass',\n",
        "    '#d01715':'tall grass',\n",
        "    '#445b2d':'orange tulip',\n",
        "    '#885c2b':'white tulip',\n",
        "    '#5a5c2b':'pink tulip',\n",
        "    '#8a2c2c':'daisy',\n",
        "    '#165d01':'tall fern',\n",
        "    '#01a101':'tall fern',\n",
        "    '#89e715':'rose bush',\n",
        "    '#451700':'rose bush',\n",
        "    '#b75c15':'peony',\n",
        "    '#a2a017':'peony',\n",
        "    '#8bb72e':'red mushroom',\n",
        "    '#a2732d':'brown mushroom',\n",
        "    '#7e54ba':'villager',\n",
        "    '#ffffff':'spider',\n",
        "    '#29c9bf':'horse',\n",
        "    '#c26b3e':'sheep',\n",
        "    '#afc324':'chicken',\n",
        "    '#7051c9':'rabbit',\n",
        "    '#00386b':'pig',\n",
        "    '#263971':'wolf',\n",
        "    '#9510cb':'zombie villager',\n",
        "    '#fa75aa':'witch',\n",
        "    '#e35fe6':'zombie',\n",
        "    '#b65be7':'skeleton',\n",
        "    '#5ba045':'bow',\n",
        "    '#fd9cfd':'gold helmet',\n",
        "    '#86d6ed':'creeper',\n",
        "    '#c3bf15':'squid',\n",
        "    '#2c5c44':'water',\n",
        "    '#c24cac':'slime',\n",
        "    '#d0a481':'mooshroom',\n",
        "    '#2ce75a':'sword',\n",
        "    '#b599e6':'ocelot',\n",
        "    '#123650':'polar bear',\n",
        "    '#000000':'lava',\n",
        "    '#140000':'lava',\n",
        "    '#e72c00':'lava',\n",
        "    '#004600':'lava',\n",
        "    '#b8b944':'lava',\n",
        "    '#a20017':'cactus',\n",
        "    '#2d4400':'water',\n",
        "    '#450100':'water',\n",
        "    '#164501':'water',\n",
        "    '#2c0001':'water',\n",
        "    '#facdae':'sky',\n",
        "    '#608b18':'lama',\n",
        "    '#23c33f':'mule',\n",
        "    '#a05b16':'door',\n",
        "    '#8ba216':'door',\n",
        "    '#2e1500':'door',\n",
        "    '#73e715':'door',\n",
        "    '#5858d2':'donkey',\n",
        "    '#002e2e':'fire',\n",
        "    '#172c2d':'fire',\n",
        "    '#b70043':'quartz',\n",
        "    '#a04544':'quartz',\n",
        "    '#5d0046':'glowstone',\n",
        "    '#5b1643':'wool',\n",
        "    '#164415':'wool',\n",
        "    '#448a44':'nether brick',\n",
        "    '#008945':'anvil',\n",
        "    '#008a13':'wool',\n",
        "    '#e7b715':'wool',\n",
        "    '#2c0017':'wool',\n",
        "    '#732d14':'rail',\n",
        "    '#8be700':'rail',\n",
        "    '#742d01':'wool',\n",
        "    '#2cb714':'quartz',\n",
        "    '#e7a046':'iron block',\n",
        "    '#012d5c':'wool',\n",
        "    '#8b002a':'stone slab',\n",
        "    '#74462c':'stone slab',\n",
        "    '#0abe1d':'sign',\n",
        "    '#16002e':'chiseled quartz',\n",
        "    '#00462e':'chiseled quartz',\n",
        "    '#a11514':'door',\n",
        "    '#5bb716':'torch',\n",
        "    '#45b900':'wool',\n",
        "    '#004443':'clay block',\n",
        "    '#b8b62d':'prismarine',\n",
        "    '#8a1617':'diamond block',\n",
        "    '#8a155b':'sandstone',\n",
        "    '#b7e600':'sandstone',\n",
        "    '#17d02d':'sea lantern',\n",
        "    '#2d0043':'glass',\n",
        "    '#b8a12d':'glass',\n",
        "    '#a1a22d':'glass',\n",
        "    '#72a12d':'glass',\n",
        "    '#460046':'glass',\n",
        "    '#8aa12d':'glass',\n",
        "    '#d0e62c':'glass',\n",
        "    '#44a12e':'glass',\n",
        "    '#150045':'glass',\n",
        "    '#2ca12e':'glass',\n",
        "    '#e6e62c':'glass',\n",
        "    '#8a732f':'glass',\n",
        "    '#17a22d':'glass',\n",
        "    '#5ca12d':'glass',\n",
        "    '#73732d':'glass',\n",
        "    '#2ca146':'wool',\n",
        "    '#5b7315':'rail',\n",
        "    '#d11400':'rail',\n",
        "    '#a2a000':'rail',\n",
        "    '#73d044':'rail',\n",
        "    '#897344':'clay block',\n",
        "    '#157245':'clay block',\n",
        "    '#ce5b46':'clay block',\n",
        "    '#2d7245':'clay block',\n",
        "    '#2c4444':'clay block',\n",
        "    '#737244':'clay block',\n",
        "    '#154545':'clay block',\n",
        "    '#447244':'clay block',\n",
        "    '#e72d45':'clay block',\n",
        "    '#004443':'clay block',\n",
        "    '#454545':'clay block',\n",
        "    '#5b7244':'clay block',\n",
        "    '#d02c44':'clay block',\n",
        "    '#b82c46':'clay block',\n",
        "    '#89b844':'lapiz lazuli block',\n",
        "    '#e68b00':'door',\n",
        "    '#005a00':'door',\n",
        "    '#72d000':'crafting table',\n",
        "    '#b7a100':'lamp',\n",
        "    '#44b616':'nether brick',\n",
        "    '#2dcf45':'nether wart block'\n",
        "                 }\n",
        "\n",
        "\n",
        "class_to_color = {v: ImageColor.getcolor(k, \"RGB\") for k, v in color_to_class.items()}\n",
        "\n",
        "\n",
        "nums = np.arange(len(class_to_color))\n",
        "rgb_to_class={ ImageColor.getcolor(k, \"RGB\"):v for k, v in color_to_class.items()}\n",
        "normalize_colours = {ImageColor.getcolor(k, \"RGB\"):class_to_color[v]  for k, v in color_to_class.items()}\n",
        "# print(class_to_color)\n",
        "# print(normalize_colours)\n",
        "print(rgb_to_class)"
      ],
      "execution_count": 3,
      "outputs": [
        {
          "output_type": "stream",
          "text": [
            "{(45, 44, 0): 'stone', (184, 113, 23): 'granite', (159, 184, 22): 'polished granite', (232, 231, 0): 'diorite', (206, 44, 21): 'polished diorite', (21, 114, 0): 'andesite', (0, 184, 0): 'polished andesite', (92, 44, 68): 'grass block', (90, 161, 21): 'dirt', (22, 160, 23): 'coarse dirt', (68, 230, 22): 'podzol', (92, 208, 21): 'cobblestone', (91, 231, 0): 'oak wood plank', (69, 45, 21): 'spruce wood plank', (139, 92, 0): 'birch wood plank', (115, 161, 0): 'jungle wood plank', (45, 22, 92): 'acacia wood plank', (161, 20, 0): 'dark oak wood plank', (22, 208, 0): 'bedrock', (161, 208, 70): 'sand', (45, 0, 43): 'red sand', (161, 45, 68): 'gravel', (0, 45, 68): 'gold ore', (0, 184, 70): 'iron ore', (0, 160, 22): 'coal ore', (161, 0, 93): 'oak wood', (208, 1, 92): 'spruce wood', (69, 0, 91): 'birch wood', (115, 0, 91): 'jungle wood', (162, 230, 69): 'oak leaf', (184, 230, 69): 'spruce leaf', (0, 206, 69): 'birch leaf', (21, 208, 67): 'jungle leaf', (94, 115, 46): 'glass', (161, 184, 70): 'lapiz lazuli', (230, 91, 0): 'sandstone', (1, 44, 0): 'chiseled sandstone', (208, 160, 0): 'smooth sandstone', (183, 0, 44): 'wool', (137, 68, 0): 'brick', (94, 138, 1): 'bookshelf', (115, 207, 22): 'mossy cobblestone', (183, 114, 45): 'obsidian', (114, 91, 23): 'diamond ore', (0, 116, 45): 'furnace', (137, 45, 22): 'redstone ore', (45, 138, 68): 'ice block', (0, 91, 70): 'snow block', (117, 138, 69): 'pumpkin', (208, 137, 23): 'clay block', (91, 138, 44): 'stone brick', (22, 92, 68): 'mossy stone brick', (45, 22, 68): 'cracked stone brick', (69, 208, 45): 'chiseled stone brick', (207, 160, 68): 'iron bars', (93, 208, 45): 'vine', (113, 21, 0): 'melon', (116, 1, 70): 'mycelium', (92, 68, 68): 'mycelium', (206, 185, 70): 'acacia leaf', (231, 184, 68): 'dark oak leaf', (232, 230, 68): 'acacia wood', (21, 0, 91): 'dark oak wood', (93, 208, 1): 'cactus', (159, 81, 105): 'player', (185, 183, 21): 'torch', (44, 44, 70): 'village road', (139, 45, 69): 'grass', (185, 0, 93): 'oak wood', (231, 0, 92): 'spruce wood', (0, 22, 1): 'podzol', (45, 231, 0): 'melon', (0, 69, 24): 'wheat', (46, 22, 22): 'wheat', (23, 0, 21): 'wheat', (89, 45, 0): 'wheat', (229, 114, 23): 'wheat', (67, 114, 0): 'wheat', (232, 22, 93): 'wheat', (23, 23, 23): 'wheat', (22, 185, 0): 'grass', (231, 22, 44): 'fern', (185, 68, 0): 'dead bush', (93, 45, 45): 'yellow flower', (45, 91, 44): 'red flower', (70, 44, 43): 'blue flower', (46, 46, 46): 'purple flower', (46, 46, 44): 'purple flower', (115, 43, 46): 'white flower', (114, 92, 45): 'red tulip', (230, 208, 0): 'tall grass', (208, 23, 21): 'tall grass', (68, 91, 45): 'orange tulip', (136, 92, 43): 'white tulip', (90, 92, 43): 'pink tulip', (138, 44, 44): 'daisy', (22, 93, 1): 'tall fern', (1, 161, 1): 'tall fern', (137, 231, 21): 'rose bush', (69, 23, 0): 'rose bush', (183, 92, 21): 'peony', (162, 160, 23): 'peony', (139, 183, 46): 'red mushroom', (162, 115, 45): 'brown mushroom', (126, 84, 186): 'villager', (255, 255, 255): 'spider', (41, 201, 191): 'horse', (194, 107, 62): 'sheep', (175, 195, 36): 'chicken', (112, 81, 201): 'rabbit', (0, 56, 107): 'pig', (38, 57, 113): 'wolf', (149, 16, 203): 'zombie villager', (250, 117, 170): 'witch', (227, 95, 230): 'zombie', (182, 91, 231): 'skeleton', (91, 160, 69): 'bow', (253, 156, 253): 'gold helmet', (134, 214, 237): 'creeper', (195, 191, 21): 'squid', (44, 92, 68): 'water', (194, 76, 172): 'slime', (208, 164, 129): 'mooshroom', (44, 231, 90): 'sword', (181, 153, 230): 'ocelot', (18, 54, 80): 'polar bear', (0, 0, 0): 'lava', (20, 0, 0): 'lava', (231, 44, 0): 'lava', (0, 70, 0): 'lava', (184, 185, 68): 'lava', (162, 0, 23): 'cactus', (45, 68, 0): 'water', (69, 1, 0): 'water', (22, 69, 1): 'water', (44, 0, 1): 'water', (250, 205, 174): 'sky', (96, 139, 24): 'lama', (35, 195, 63): 'mule', (160, 91, 22): 'door', (139, 162, 22): 'door', (46, 21, 0): 'door', (115, 231, 21): 'door', (88, 88, 210): 'donkey', (0, 46, 46): 'fire', (23, 44, 45): 'fire', (183, 0, 67): 'quartz', (160, 69, 68): 'quartz', (93, 0, 70): 'glowstone', (91, 22, 67): 'wool', (22, 68, 21): 'wool', (68, 138, 68): 'nether brick', (0, 137, 69): 'anvil', (0, 138, 19): 'wool', (231, 183, 21): 'wool', (44, 0, 23): 'wool', (115, 45, 20): 'rail', (139, 231, 0): 'rail', (116, 45, 1): 'wool', (44, 183, 20): 'quartz', (231, 160, 70): 'iron block', (1, 45, 92): 'wool', (139, 0, 42): 'stone slab', (116, 70, 44): 'stone slab', (10, 190, 29): 'sign', (22, 0, 46): 'chiseled quartz', (0, 70, 46): 'chiseled quartz', (161, 21, 20): 'door', (91, 183, 22): 'torch', (69, 185, 0): 'wool', (0, 68, 67): 'clay block', (184, 182, 45): 'prismarine', (138, 22, 23): 'diamond block', (138, 21, 91): 'sandstone', (183, 230, 0): 'sandstone', (23, 208, 45): 'sea lantern', (45, 0, 67): 'glass', (184, 161, 45): 'glass', (161, 162, 45): 'glass', (114, 161, 45): 'glass', (70, 0, 70): 'glass', (138, 161, 45): 'glass', (208, 230, 44): 'glass', (68, 161, 46): 'glass', (21, 0, 69): 'glass', (44, 161, 46): 'glass', (230, 230, 44): 'glass', (138, 115, 47): 'glass', (23, 162, 45): 'glass', (92, 161, 45): 'glass', (115, 115, 45): 'glass', (44, 161, 70): 'wool', (91, 115, 21): 'rail', (209, 20, 0): 'rail', (162, 160, 0): 'rail', (115, 208, 68): 'rail', (137, 115, 68): 'clay block', (21, 114, 69): 'clay block', (206, 91, 70): 'clay block', (45, 114, 69): 'clay block', (44, 68, 68): 'clay block', (115, 114, 68): 'clay block', (21, 69, 69): 'clay block', (68, 114, 68): 'clay block', (231, 45, 69): 'clay block', (69, 69, 69): 'clay block', (91, 114, 68): 'clay block', (208, 44, 68): 'clay block', (184, 44, 70): 'clay block', (137, 184, 68): 'lapiz lazuli block', (230, 139, 0): 'door', (0, 90, 0): 'door', (114, 208, 0): 'crafting table', (183, 161, 0): 'lamp', (68, 182, 22): 'nether brick', (45, 207, 69): 'nether wart block'}\n"
          ],
          "name": "stdout"
        }
      ]
    },
    {
      "cell_type": "code",
      "metadata": {
        "colab": {
          "base_uri": "https://localhost:8080/"
        },
        "id": "urZzQlu_vvls",
        "outputId": "13691d22-7e8c-45cb-91eb-b473c1953b3a"
      },
      "source": [
        "rev_multidict = {}\n",
        "for key, value in color_to_class.items():\n",
        "    rev_multidict.setdefault(value, set()).add(key)\n",
        "temp=[key for key, values in rev_multidict.items() if len(values) > 1]\n",
        "print(temp)\n",
        "# print(color_to_class[(83, 205, 0)])"
      ],
      "execution_count": 4,
      "outputs": [
        {
          "output_type": "stream",
          "text": [
            "['podzol', 'oak wood', 'spruce wood', 'glass', 'sandstone', 'wool', 'clay block', 'melon', 'mycelium', 'cactus', 'torch', 'grass', 'wheat', 'purple flower', 'tall grass', 'tall fern', 'rose bush', 'peony', 'water', 'lava', 'door', 'fire', 'quartz', 'nether brick', 'rail', 'stone slab', 'chiseled quartz']\n"
          ],
          "name": "stdout"
        }
      ]
    },
    {
      "cell_type": "code",
      "metadata": {
        "id": "ylLMVToavvlu"
      },
      "source": [
        "from os import listdir, mkdir\n",
        "from os.path import isfile, join, exists\n",
        "import torch\n",
        "MOUNT_ROOT = '/content/drive/My Drive'\n",
        "MODELS_PATH = join(MOUNT_ROOT, \"CopyModels\")\n",
        "MODELS_DIR_PATH = join(MOUNT_ROOT, \"Copy of Models\")"
      ],
      "execution_count": 5,
      "outputs": []
    },
    {
      "cell_type": "code",
      "metadata": {
        "id": "-zOLB-F2aJEC"
      },
      "source": [
        "torch.cuda.empty_cache()\n",
        "from __future__ import print_function, division\n",
        "import os\n",
        "import torch\n",
        "import pandas as pd\n",
        "from skimage import io, transform\n",
        "import numpy as np\n",
        "import matplotlib.pyplot as plt\n",
        "from torch.utils.data import  Dataset,DataLoader\n",
        "\n",
        "class MinecraftSegmentationDataset(Dataset):\n",
        "    \"\"\"Segmentation Dataset\"\"\"\n",
        " \n",
        "    def __init__(self, root_dir, imageFolder, maskFolder, transform=None, seed=None, fraction=None, subset=None, imagecolormode='rgb', maskcolormode='grayscale'):\n",
        "        \"\"\"\n",
        "        Args:\n",
        "            root_dir (string): Directory with all the images and should have the following structure.\n",
        "            root\n",
        "            --Images\n",
        "            -----Img 1\n",
        "            -----Img N\n",
        "            --Mask\n",
        "            -----Mask 1\n",
        "            -----Mask N\n",
        "            imageFolder (string) = 'Images' : Name of the folder which contains the Images.\n",
        "            maskFolder (string)  = 'Masks : Name of the folder which contains the Masks.\n",
        "            transform (callable, optional): Optional transform to be applied on a sample.\n",
        "            seed: Specify a seed for the train and test split\n",
        "            fraction: A float value from 0 to 1 which specifies the validation split fraction\n",
        "            subset: 'Train' or 'Test' to select the appropriate set.\n",
        "            imagecolormode: 'rgb' or 'grayscale'\n",
        "            maskcolormode: 'rgb' or 'grayscale'\n",
        "        \"\"\"\n",
        "        self.color_dict = {'rgb': 1, 'grayscale': 0}\n",
        "        assert(imagecolormode in ['rgb', 'grayscale'])\n",
        "        assert(maskcolormode in ['rgb', 'grayscale'])\n",
        " \n",
        "        self.imagecolorflag = self.color_dict[imagecolormode]\n",
        "        self.maskcolorflag = self.color_dict[maskcolormode]\n",
        "        self.root_dir = root_dir\n",
        "        self.transform = transform\n",
        "        if not fraction:\n",
        "            self.image_names = sorted(\n",
        "                glob.glob(os.path.join(self.root_dir, imageFolder, '*')))\n",
        "            self.mask_names = sorted(\n",
        "                glob.glob(os.path.join(self.root_dir, maskFolder, '*')))\n",
        "        else:\n",
        "            assert(subset in ['Train', 'Test'])\n",
        "            self.fraction = fraction\n",
        "            self.image_list = np.array(sorted(glob.glob(os.path.join(self.root_dir, imageFolder, '*'))))\n",
        "            # print('image', self.image_list)\n",
        "            self.mask_list = np.array(\n",
        "                sorted(glob.glob(os.path.join(self.root_dir, maskFolder, '*'))))\n",
        "            # print('mask', self.image_list)\n",
        "            if seed:\n",
        "                np.random.seed(seed)\n",
        "            indices = np.arange(len(self.image_list))\n",
        "            # np.random.shuffle(indices)\n",
        "            self.image_list = self.image_list[indices]\n",
        "            self.mask_list = self.mask_list[indices]\n",
        "            if subset == 'Train':\n",
        "                self.image_names = self.image_list[:int(\n",
        "                    np.ceil(len(self.image_list)*(1-self.fraction)))]\n",
        "                self.mask_names = self.mask_list[:int(\n",
        "                    np.ceil(len(self.mask_list)*(1-self.fraction)))]\n",
        "            else:\n",
        "                self.image_names = self.image_list[int(\n",
        "                    np.ceil(len(self.image_list)*(1-self.fraction))):]\n",
        "                self.mask_names = self.mask_list[int(\n",
        "                    np.ceil(len(self.mask_list)*(1-self.fraction))):]\n",
        " \n",
        "    def __len__(self):\n",
        "        return len(self.image_names)\n",
        "\n",
        "    def __getitem__(self, idx):\n",
        "        img_name = self.image_names[idx]\n",
        "        msk_name = self.mask_names[idx]\n",
        "        if self.imagecolorflag:\n",
        "            if cv2.imread(img_name, self.imagecolorflag) is None:\n",
        "                print(img_name)\n",
        "            image = cv2.imread(img_name, self.imagecolorflag).transpose(2, 0, 1)\n",
        "        else:\n",
        "            image = cv2.imread(img_name, self.imagecolorflag)\n",
        "                                  \n",
        "        if self.maskcolorflag:\n",
        "            mask = cv2.imread(msk_name, self.maskcolorflag).transpose(2, 0, 1)\n",
        "        else:\n",
        "            mask = cv2.imread(msk_name, self.maskcolorflag)\n",
        "        sample = {'image': image, 'mask': mask}\n",
        " \n",
        "        if self.transform:\n",
        "            sample = self.transform(sample)\n",
        " \n",
        "        return sample\n",
        "        \n",
        "class Resize(object):\n",
        "    \"\"\"Resize image and/or masks.\"\"\"\n",
        "\n",
        "    def __init__(self, imageresize, maskresize):\n",
        "        self.imageresize = imageresize\n",
        "        self.maskresize = maskresize\n",
        "\n",
        "    def __call__(self, sample):\n",
        "        image, mask = sample['image'], sample['mask']\n",
        "        if len(image.shape) == 3:\n",
        "            image = image.transpose(1, 2, 0)\n",
        "        if len(mask.shape) == 3:\n",
        "            mask = mask.transpose(1, 2, 0)\n",
        "        mask = cv2.resize(mask, self.maskresize, cv2.INTER_AREA)\n",
        "        image = cv2.resize(image, self.imageresize, cv2.INTER_AREA)\n",
        "        if len(image.shape) == 3:\n",
        "            image = image.transpose(2, 0, 1)\n",
        "        if len(mask.shape) == 3:\n",
        "            mask = mask.transpose(2, 0, 1)\n",
        "\n",
        "        return {'image': image,\n",
        "                'mask': mask}\n",
        "\n",
        "\n",
        "class ToTensor(object):\n",
        "    \"\"\"Convert ndarrays in sample to Tensors.\"\"\"\n",
        "\n",
        "    def __call__(self, sample, maskresize=None, imageresize=None):\n",
        "        image, mask = sample['image'], sample['mask']\n",
        "        if len(mask.shape) == 2:\n",
        "            mask = mask.reshape((1,)+mask.shape)\n",
        "        if len(image.shape) == 2:\n",
        "            image = image.reshape((1,)+image.shape)\n",
        "        return {'image': torch.from_numpy(image),\n",
        "                'mask': torch.from_numpy(mask)}\n",
        "\n",
        "\n",
        "class Normalize(object):\n",
        "    '''Normalize image'''\n",
        "\n",
        "    def __call__(self, sample):\n",
        "        image, mask = sample['image'], sample['mask']\n",
        "        return {'image': image.type(torch.FloatTensor)/255,\n",
        "                'mask': mask.type(torch.int64)}\n",
        "\n",
        "def get_dataloader(data_dir, imageFolder='video', maskFolder='mask', fraction=1, batch_size=3):\n",
        "    \"\"\"\n",
        "        Create training and testing dataloaders from a single folder.\n",
        "    \"\"\"\n",
        "    data_transforms = {\n",
        "        'Train': transforms.Compose([ToTensor(), Normalize()]),\n",
        "        'Test': transforms.Compose([ToTensor(), Normalize()]),\n",
        "    }\n",
        "\n",
        "    image_datasets = {x: MinecraftSegmentationDataset(data_dir, imageFolder=imageFolder, maskFolder=maskFolder, seed=100, fraction=fraction, subset=x, transform=data_transforms[x])\n",
        "                      for x in ['Train', 'Test']}\n",
        "    dataloaders = {x: DataLoader(image_datasets[x], batch_size=batch_size,\n",
        "                                 shuffle=False)\n",
        "                   for x in ['Train', 'Test']}\n",
        "    return dataloaders"
      ],
      "execution_count": 6,
      "outputs": []
    },
    {
      "cell_type": "code",
      "metadata": {
        "id": "a1_1MXja6j-X"
      },
      "source": [
        "import torch.nn as nn\n",
        "import torch.nn.functional as F\n",
        "from sklearn.metrics import jaccard_score, f1_score\n",
        "from torchvision.models.segmentation.deeplabv3 import DeepLabHead\n",
        "from torchvision.models.segmentation import  deeplabv3_resnet101\n",
        "class FocalLoss(nn.Module):\n",
        "    def __init__(self, alpha=.25, gamma=2, size_average=True):\n",
        "        super(FocalLoss, self).__init__()\n",
        "        self.alpha = alpha\n",
        "        self.gamma = gamma\n",
        "        self.size_average = size_average\n",
        "\n",
        "    def forward(self, inputs, targets):\n",
        "       \n",
        "        ce_loss = F.cross_entropy(\n",
        "            inputs, targets, reduction='none')\n",
        "        pt = torch.exp(-ce_loss)\n",
        "        focal_loss = self.alpha * (1-pt)**self.gamma * ce_loss\n",
        "        if self.size_average:\n",
        "            return focal_loss.mean()\n",
        "        else:\n",
        "            return focal_loss.sum()\n",
        "            \n",
        "def custom_DeepLabv3(out_channel=132):\n",
        "    model =  deeplabv3_resnet101(pretrained=True, progress=True)\n",
        "    model.classifier = DeepLabHead(2048, out_channel)\n",
        "    #Set the model in training mode\n",
        "    model.train()\n",
        "    return model"
      ],
      "execution_count": 7,
      "outputs": []
    },
    {
      "cell_type": "code",
      "metadata": {
        "id": "MloUwWv554Ni"
      },
      "source": [
        "import glob\n",
        "def get_latest_checkpoint(model, optimizer):\n",
        "    # we chose model at epoch 50 to showcase\n",
        "    latest_file = '/content/drive/MyDrive/Copy of Models/Copy of model_epoch_050.pt'\n",
        "    checkpoint = torch.load(latest_file)\n",
        "    model.load_state_dict(checkpoint['model_state_dict'])\n",
        "    optimizer.load_state_dict(checkpoint['optimizer_state_dict'])\n",
        "    epoch = checkpoint['epoch']\n",
        "    loss = checkpoint['loss']\n",
        "    print(\"get_latest_checkpoint model address={}\".format(hex(id(model))))\n",
        "    print(\"Loaded successfully the latest checkpoint: epoch={} loss={}\".format(epoch, loss))\n",
        "    return epoch + 1"
      ],
      "execution_count": 8,
      "outputs": []
    },
    {
      "cell_type": "code",
      "metadata": {
        "colab": {
          "base_uri": "https://localhost:8080/"
        },
        "id": "vSuGqoQA36tw",
        "outputId": "d097e602-ef6a-4db7-e32a-5e699039c871"
      },
      "source": [
        "import torch\n",
        "from tqdm import tqdm\n",
        "from torchvision import transforms, utils\n",
        "\n",
        "torch.cuda.empty_cache()\n",
        "# print(get_gpu_memory_map())\n",
        "root = r'/content/drive/MyDrive/Minecraft Segmentation Data Set'\n",
        "model = custom_DeepLabv3(132)\n",
        "metrics = {'IoU': jaccard_score, 'f1_score': f1_score}\n",
        "optimizer = torch.optim.Adam(model.parameters(), lr=1e-4)\n",
        "loss_func = FocalLoss()\n",
        "criterion = loss_func\n",
        "get_latest_checkpoint(model, optimizer)\n",
        "device = torch.device(\"cuda:0\" if torch.cuda.is_available() else \"cpu\")\n",
        "model.to(device)\n",
        "model.eval()\n",
        "print(\"Model set to eval\")"
      ],
      "execution_count": 9,
      "outputs": [
        {
          "output_type": "stream",
          "text": [
            "get_latest_checkpoint model address=0x7f1305f5c7b8\n",
            "Loaded successfully the latest checkpoint: epoch=50 loss=0.03656938929031756\n",
            "Model set to eval\n"
          ],
          "name": "stdout"
        }
      ]
    },
    {
      "cell_type": "code",
      "metadata": {
        "id": "JdgKEyD-As5X"
      },
      "source": [
        "# make a small data set to test and showcase\n",
        "from random import randrange\n",
        "from shutil import copyfile\n",
        "DATASET_ROOT = root"
      ],
      "execution_count": 10,
      "outputs": []
    },
    {
      "cell_type": "code",
      "metadata": {
        "colab": {
          "base_uri": "https://localhost:8080/"
        },
        "id": "iRIfClg5vCh0",
        "outputId": "d7a84cbd-5902-433f-d6cd-65229d998ed9"
      },
      "source": [
        "SIZE = 450\n",
        "i = 400\n",
        "# for file_num in range(SIZE):\n",
        "#     name = '{0}'.format(str(file_num+1).zfill(3))\n",
        "#     copyfile(join(DATASET_ROOT, 'video', f'{i+file_num}.png'), join(DATASET_ROOT, 'video450', name+'.png'))\n",
        "#     copyfile(join(DATASET_ROOT, 'mask', f'{i+file_num}.png'), join(DATASET_ROOT, 'mask450', name+'.png'))\n",
        "    \n",
        "#     # make mask in rgb mode\n",
        "#     image_path = join(DATASET_ROOT, 'mask450', name+'.png')\n",
        "#     greyscale_to_rgb_mask(Image.open(image_path), 'rgb_mask450', name+'.png')\n",
        "print()\n",
        "len(glob.glob(join(DATASET_ROOT, 'mask450',\"*.png\")))"
      ],
      "execution_count": 11,
      "outputs": [
        {
          "output_type": "stream",
          "text": [
            "\n"
          ],
          "name": "stdout"
        },
        {
          "output_type": "execute_result",
          "data": {
            "text/plain": [
              "450"
            ]
          },
          "metadata": {
            "tags": []
          },
          "execution_count": 11
        }
      ]
    },
    {
      "cell_type": "code",
      "metadata": {
        "id": "CeZQ-3gwvvmY"
      },
      "source": [
        "import numpy as np\n",
        "rgb_classes= np.array([(0,0,0)]+list(set(normalize_colours.values())))\n",
        "def greyscale_to_rgb_mask(image, dir, file_name):\n",
        "    rgbMask= rgb_classes[image].astype('uint8')\n",
        "    rgbMask=Image.fromarray(rgbMask)\n",
        "    rgbMask.show()\n",
        "    rgbMask.save(join(root, dir, file_name))\n",
        "    print(file_name, end=\" \")"
      ],
      "execution_count": 12,
      "outputs": []
    },
    {
      "cell_type": "code",
      "metadata": {
        "id": "Lxg-ceVOSTXB"
      },
      "source": [
        "image_path = join(DATASET_ROOT, 'mask450', '150.png')\n"
      ],
      "execution_count": 13,
      "outputs": []
    },
    {
      "cell_type": "code",
      "metadata": {
        "colab": {
          "base_uri": "https://localhost:8080/"
        },
        "id": "WEDX-444Qhni",
        "outputId": "6296d89c-b665-4e0b-8d76-560381107301"
      },
      "source": [
        "dataloaders = get_dataloader(root,imageFolder=f'video450',maskFolder=f'mask450', batch_size=3)\n",
        "len(dataloaders['Test'])"
      ],
      "execution_count": 14,
      "outputs": [
        {
          "output_type": "execute_result",
          "data": {
            "text/plain": [
              "150"
            ]
          },
          "metadata": {
            "tags": []
          },
          "execution_count": 14
        }
      ]
    },
    {
      "cell_type": "code",
      "metadata": {
        "id": "pQaOZOxn-zR8"
      },
      "source": [
        "# phase = 'Test'\n",
        "# i = 1\n",
        "# # Iterate over data.\n",
        "# for sample in tqdm(iter(dataloaders[phase])):\n",
        "#     inputs = sample['image'].to(device)\n",
        "\n",
        "#     # track history if only in train\n",
        "#     with torch.set_grad_enabled(phase == 'Train'):\n",
        "#         outputs = model(inputs)\n",
        "#         outputs['out'] = outputs['out']\n",
        "#         outputs['out']=outputs['out'].double()\n",
        "#         outputs['out'] = outputs['out'].argmax(1)\n",
        "#         y_pred = outputs['out'].data.cpu().numpy()\n",
        "\n",
        "#         print(\"\\nSaved\", end=\" \")\n",
        "#         for k in range(3):\n",
        "#           greyscale_to_rgb_mask(y_pred[k], \"predicted450\",'{0}'.format(str(i).zfill(3))+'.png')\n",
        "#           i+=1\n",
        "#         print()"
      ],
      "execution_count": 15,
      "outputs": []
    },
    {
      "cell_type": "markdown",
      "metadata": {
        "id": "PK-h6ZuB3vIz"
      },
      "source": [
        "### RESULTS: IMAGE, GROUND TRUTH, and PREDICTED"
      ]
    },
    {
      "cell_type": "code",
      "metadata": {
        "id": "WreA7C2D3tKt",
        "colab": {
          "base_uri": "https://localhost:8080/",
          "height": 131
        },
        "outputId": "0311ff35-f900-48e8-b0b9-c3e257771c4c"
      },
      "source": [
        "import numpy as np\n",
        "import matplotlib.pyplot as plt\n",
        "import matplotlib.image as mpimg\n",
        "titles = ['image', 'mask', 'predicted']\n",
        "types = ['video', 'rgb_mask', 'predicted']\n",
        "w=480\n",
        "h=720\n",
        "fig=plt.figure()\n",
        "columns = 3\n",
        "rows = 1\n",
        "file_num = 16\n",
        "for i in range(1, columns*rows +1):\n",
        "    name = '{0}'.format(str(file_num).zfill(3))\n",
        "    img_name = join(DATASET_ROOT, f'{types[i-1]}450', name+'.png')\n",
        "    img = mpimg.imread(img_name)\n",
        "    ax = fig.add_subplot(rows, columns, i)\n",
        "    fig.tight_layout()\n",
        "    plt.imshow(img)\n",
        "    ax.set_title(f'{titles[i-1]}_{name}')\n",
        "plt.savefig(join(DATASET_ROOT,'016.png'))"
      ],
      "execution_count": 47,
      "outputs": [
        {
          "output_type": "display_data",
          "data": {
            "image/png": "[encoded data removed]",
            "text/plain": [
              "<Figure size 432x288 with 3 Axes>"
            ]
          },
          "metadata": {
            "tags": [],
            "needs_background": "light"
          }
        }
      ]
    },
    {
      "cell_type": "code",
      "metadata": {
        "id": "RQSjvjAl9aHG"
      },
      "source": [
        "# img_name = join(DATASET_ROOT, f'{types[0]}450', '016.' + ('png'if 0<2 else'jpg'))\n",
        "# print(img_name)\n",
        "# img = mpimg.imread(img_name)\n",
        "# plt.imshow(img, filename=f'{titles[0]}_016')"
      ],
      "execution_count": null,
      "outputs": []
    },
    {
      "cell_type": "markdown",
      "metadata": {
        "id": "Ykb7nqyohFiF"
      },
      "source": [
        "### MAKING VIDEOS"
      ]
    },
    {
      "cell_type": "code",
      "metadata": {
        "id": "pef8KUiivvmD"
      },
      "source": [
        "import cv2\n",
        "import numpy as np\n",
        "def make_video(image_dir, size):\n",
        "  print(image_dir)\n",
        "  img=[]\n",
        "  for file_num in range(size):\n",
        "      name = '{0}'.format(str(file_num+1).zfill(3))+'.png'\n",
        "      img.append(cv2.imread(join(DATASET_ROOT, image_dir, name)))\n",
        "\n",
        "  height,width,layers=img[1].shape\n",
        "\n",
        "  video=cv2.VideoWriter(join(DATASET_ROOT,f'{image_dir}.avi'),cv2.VideoWriter_fourcc(*'DIVX'),30,(width,height))\n",
        "\n",
        "  for i in range(size):\n",
        "      video.write(img[i])\n",
        "\n",
        "  video.release()\n"
      ],
      "execution_count": 18,
      "outputs": []
    },
    {
      "cell_type": "code",
      "metadata": {
        "colab": {
          "base_uri": "https://localhost:8080/"
        },
        "id": "7USGH6GSYM2X",
        "outputId": "f42545d2-1df0-48f1-dd40-f5259f5758e8"
      },
      "source": [
        "for t in types:\n",
        "  make_video(t+'450', 450)"
      ],
      "execution_count": 19,
      "outputs": [
        {
          "output_type": "stream",
          "text": [
            "video450\n",
            "rgb_mask450\n",
            "predicted450\n"
          ],
          "name": "stdout"
        }
      ]
    },
    {
      "cell_type": "markdown",
      "metadata": {
        "id": "adSXMakUhOvT"
      },
      "source": [
        "PLAYING THE VIDEOS SIMULTANEOUSLY"
      ]
    },
    {
      "cell_type": "code",
      "metadata": {
        "id": "1ybGHmSooLaq"
      },
      "source": [
        "from PIL import Image\n",
        "import torchvision.transforms.functional as f\n",
        "\n",
        "# display 3 pictures (origin, groundtruth, mask) in a row\n",
        "# store in /together in the shared drive\n",
        "def make_together(types, size):\n",
        "  white_column = np.zeros([480,10,3],dtype=np.uint8)\n",
        "  white_column.fill(255)\n",
        "  for i in range(size):\n",
        "    name = '{0}'.format(str(i+1).zfill(3))+'.png'\n",
        "    arrays = [cv2.cvtColor(cv2.imread(join(DATASET_ROOT, t+\"450\", name), 1),cv2.COLOR_BGR2RGB) for t in types]\n",
        "    input = np.concatenate((arrays[0], white_column, arrays[1], white_column, arrays[2]), axis=1)\n",
        "    data = Image.fromarray(input) \n",
        "    data.save(join(DATASET_ROOT,'together',name))\n",
        "make_together(['video', 'rgb_mask', 'predicted'], 450)"
      ],
      "execution_count": 54,
      "outputs": []
    },
    {
      "cell_type": "code",
      "metadata": {
        "colab": {
          "base_uri": "https://localhost:8080/"
        },
        "id": "Jee8EGvszmnX",
        "outputId": "a8989ddc-2eb7-427c-cef8-eacb50dbdca7"
      },
      "source": [
        "make_video('together',450)"
      ],
      "execution_count": 55,
      "outputs": [
        {
          "output_type": "stream",
          "text": [
            "together\n"
          ],
          "name": "stdout"
        }
      ]
    },
    {
      "cell_type": "code",
      "metadata": {
        "id": "WQcpv-BnzqeS"
      },
      "source": [
        ""
      ],
      "execution_count": null,
      "outputs": []
    }
  ]
}